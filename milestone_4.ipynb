{
 "cells": [
  {
   "cell_type": "markdown",
   "metadata": {},
   "source": [
    "# **Ada Project : Creative extension**\n",
    "## Milestone P4\n",
    "\n",
    "### **Supplementary method :** Decision tree\n",
    "\n",
    "The idea of the original paper is to demonstarte (if possible) that there is a racial profiling trend across the united states, the authors do so by using severall methods that mostly take data across all available states. We have decided here to limit the search to one state, as we think that there may be different trends in the different states (As demonstrated for instance by the marijuane legalisation/search rate test). We also decided to implement a method that the paper hasn't used: The decision tree, which we think is a robust statistical test that correspond to the data we have. We know that our conclusions won't be able to caracterize the polices officers behaviour across the states but only to the specifical instance of the washington state patrol. "
   ]
  },
  {
   "cell_type": "code",
   "execution_count": 1,
   "metadata": {},
   "outputs": [],
   "source": [
    "#We first import all the libraries we will need\n",
    "\n",
    "import pandas as pd\n",
    "import numpy as np\n",
    "import seaborn as sns\n",
    "\n",
    "import matplotlib.pyplot as plt\n",
    "import matplotlib\n",
    "\n",
    "import warnings\n",
    "import random\n",
    "\n",
    "from datetime import datetime, date, time\n",
    "\n",
    "from sklearn.tree import DecisionTreeClassifier, plot_tree\n",
    "from sklearn.linear_model import LogisticRegression, SGDClassifier\n",
    "from sklearn.model_selection import RandomizedSearchCV,train_test_split, GridSearchCV\n",
    "from sklearn import preprocessing\n",
    "from sklearn.metrics import precision_score, recall_score\n",
    "from sklearn.svm import LinearSVC\n",
    "\n",
    "\n",
    "warnings.filterwarnings('ignore')"
   ]
  },
  {
   "cell_type": "markdown",
   "metadata": {},
   "source": [
    "### **Step 1**:  Source of Data\n",
    "The original paper gives a link to the source of their data the Stanford Open Policing project : https://openpolicing.stanford.edu/data/. Sevrall million of stops are categorized there but as we said we decided to limit ourselves to only one state, which we thought needed to be heavily populated and where state patrols had recorded  a lot of stops owith information on the racial appearence of the subjects, the time of the stop, the subject age, the subjet sex and if a search had been conducted. Our choice was therefore the state of washington and the 11 million state patrol stopps.\n",
    "\n",
    "But this also meant that the file containing all these stops was really large and the computation time being so long we had to take only parts of the original csv.  To achieve this, as the data is sorted by date, we sampled the orignal dataset randomly and took a about 500 000. That is aproximately 4,5% . \n",
    "\n",
    "Some of us also had good enough computers to use the whole dataset, so we made it possible to switch."
   ]
  },
  {
   "cell_type": "code",
   "execution_count": 2,
   "metadata": {},
   "outputs": [],
   "source": [
    "#We first define which computer is used. For the final rendering we will use the whole dataset but we still decided to keep the other options.\n",
    "computer ='Nathan'"
   ]
  },
  {
   "cell_type": "code",
   "execution_count": 3,
   "metadata": {},
   "outputs": [],
   "source": [
    "#We also define constants that we may need \n",
    "#The year of the washington legalisation is 2012\n",
    "wa_legalization_year=2012"
   ]
  },
  {
   "cell_type": "code",
   "execution_count": 4,
   "metadata": {},
   "outputs": [],
   "source": [
    "#Loading our dataset splited in a random way for the different computers:\n",
    "if computer =='Alex':\n",
    "    filename = \"Desktop/m_3/wa.csv\" #path on Alex computer\n",
    "    \n",
    "    n = sum(1 for line in open(filename)) - 1 #number of records in file (excludes header)\n",
    "    s = 500000 #desired sample size, longer sample sizes will significantly increase runtime\n",
    "    skip = sorted(random.sample(range(1,n+1),n-s)) #the 0-indexed header will not be included in the skip list\n",
    "\n",
    "    wa = pd.read_csv(filename, skiprows=skip)\n",
    "    \n",
    "elif computer == 'Jean':\n",
    "    filename = \"/Users/jeandevillard/Desktop/m_3/wa.csv\" #path on Jean computer\n",
    "    wa = pd.read_csv(filename)\n",
    "\n",
    "elif computer == 'Nathan':\n",
    "    filename = \"data/wa_statewide_2020_04_01.csv\" #where your data should be :)\n",
    "    wa = pd.read_csv(filename)"
   ]
  },
  {
   "cell_type": "code",
   "execution_count": 5,
   "metadata": {},
   "outputs": [
    {
     "data": {
      "text/html": [
       "<div>\n",
       "<style scoped>\n",
       "    .dataframe tbody tr th:only-of-type {\n",
       "        vertical-align: middle;\n",
       "    }\n",
       "\n",
       "    .dataframe tbody tr th {\n",
       "        vertical-align: top;\n",
       "    }\n",
       "\n",
       "    .dataframe thead th {\n",
       "        text-align: right;\n",
       "    }\n",
       "</style>\n",
       "<table border=\"1\" class=\"dataframe\">\n",
       "  <thead>\n",
       "    <tr style=\"text-align: right;\">\n",
       "      <th></th>\n",
       "      <th>raw_row_number</th>\n",
       "      <th>date</th>\n",
       "      <th>time</th>\n",
       "      <th>location</th>\n",
       "      <th>lat</th>\n",
       "      <th>lng</th>\n",
       "      <th>county_name</th>\n",
       "      <th>subject_age</th>\n",
       "      <th>subject_race</th>\n",
       "      <th>subject_sex</th>\n",
       "      <th>...</th>\n",
       "      <th>frisk_performed</th>\n",
       "      <th>search_conducted</th>\n",
       "      <th>search_basis</th>\n",
       "      <th>raw_officer_race</th>\n",
       "      <th>raw_officer_gender</th>\n",
       "      <th>raw_contact_type</th>\n",
       "      <th>raw_driver_race</th>\n",
       "      <th>raw_driver_gender</th>\n",
       "      <th>raw_search_type</th>\n",
       "      <th>raw_enforcements</th>\n",
       "    </tr>\n",
       "  </thead>\n",
       "  <tbody>\n",
       "    <tr>\n",
       "      <th>0</th>\n",
       "      <td>1</td>\n",
       "      <td>2009-10-27</td>\n",
       "      <td>11:00:00</td>\n",
       "      <td>S-012-344</td>\n",
       "      <td>46.114221</td>\n",
       "      <td>-118.224510</td>\n",
       "      <td>Walla Walla County</td>\n",
       "      <td>30.0</td>\n",
       "      <td>white</td>\n",
       "      <td>male</td>\n",
       "      <td>...</td>\n",
       "      <td>False</td>\n",
       "      <td>False</td>\n",
       "      <td>NaN</td>\n",
       "      <td>WHITE</td>\n",
       "      <td>-</td>\n",
       "      <td>--</td>\n",
       "      <td>White</td>\n",
       "      <td>M</td>\n",
       "      <td>N</td>\n",
       "      <td>-|-|-</td>\n",
       "    </tr>\n",
       "    <tr>\n",
       "      <th>1</th>\n",
       "      <td>2</td>\n",
       "      <td>2009-10-04</td>\n",
       "      <td>21:00:00</td>\n",
       "      <td>I-090-10</td>\n",
       "      <td>47.580522</td>\n",
       "      <td>-122.170289</td>\n",
       "      <td>King County</td>\n",
       "      <td>29.0</td>\n",
       "      <td>black</td>\n",
       "      <td>male</td>\n",
       "      <td>...</td>\n",
       "      <td>False</td>\n",
       "      <td>False</td>\n",
       "      <td>NaN</td>\n",
       "      <td>WHITE</td>\n",
       "      <td>-</td>\n",
       "      <td>--</td>\n",
       "      <td>African American</td>\n",
       "      <td>M</td>\n",
       "      <td>N</td>\n",
       "      <td>-|-</td>\n",
       "    </tr>\n",
       "    <tr>\n",
       "      <th>2</th>\n",
       "      <td>3</td>\n",
       "      <td>2009-10-04</td>\n",
       "      <td>03:00:00</td>\n",
       "      <td>I-090-72</td>\n",
       "      <td>47.250003</td>\n",
       "      <td>-121.189883</td>\n",
       "      <td>Kittitas County</td>\n",
       "      <td>25.0</td>\n",
       "      <td>white</td>\n",
       "      <td>male</td>\n",
       "      <td>...</td>\n",
       "      <td>False</td>\n",
       "      <td>False</td>\n",
       "      <td>NaN</td>\n",
       "      <td>WHITE</td>\n",
       "      <td>-</td>\n",
       "      <td>--</td>\n",
       "      <td>White</td>\n",
       "      <td>M</td>\n",
       "      <td>N</td>\n",
       "      <td>NaN</td>\n",
       "    </tr>\n",
       "    <tr>\n",
       "      <th>3</th>\n",
       "      <td>4</td>\n",
       "      <td>2009-10-04</td>\n",
       "      <td>13:00:00</td>\n",
       "      <td>S-014-3</td>\n",
       "      <td>45.615344</td>\n",
       "      <td>-122.612893</td>\n",
       "      <td>Clark County</td>\n",
       "      <td>19.0</td>\n",
       "      <td>white</td>\n",
       "      <td>female</td>\n",
       "      <td>...</td>\n",
       "      <td>False</td>\n",
       "      <td>False</td>\n",
       "      <td>NaN</td>\n",
       "      <td>WHITE</td>\n",
       "      <td>-</td>\n",
       "      <td>--</td>\n",
       "      <td>White</td>\n",
       "      <td>F</td>\n",
       "      <td>N</td>\n",
       "      <td>-|-|-|-|-|-</td>\n",
       "    </tr>\n",
       "    <tr>\n",
       "      <th>4</th>\n",
       "      <td>5</td>\n",
       "      <td>2009-10-11</td>\n",
       "      <td>08:00:00</td>\n",
       "      <td>S-003-40</td>\n",
       "      <td>47.590284</td>\n",
       "      <td>-122.698671</td>\n",
       "      <td>Kitsap County</td>\n",
       "      <td>25.0</td>\n",
       "      <td>white</td>\n",
       "      <td>male</td>\n",
       "      <td>...</td>\n",
       "      <td>False</td>\n",
       "      <td>False</td>\n",
       "      <td>NaN</td>\n",
       "      <td>WHITE</td>\n",
       "      <td>-</td>\n",
       "      <td>--</td>\n",
       "      <td>White</td>\n",
       "      <td>M</td>\n",
       "      <td>N</td>\n",
       "      <td>-|-</td>\n",
       "    </tr>\n",
       "  </tbody>\n",
       "</table>\n",
       "<p>5 rows × 30 columns</p>\n",
       "</div>"
      ],
      "text/plain": [
       "   raw_row_number        date      time   location        lat         lng  \\\n",
       "0               1  2009-10-27  11:00:00  S-012-344  46.114221 -118.224510   \n",
       "1               2  2009-10-04  21:00:00   I-090-10  47.580522 -122.170289   \n",
       "2               3  2009-10-04  03:00:00   I-090-72  47.250003 -121.189883   \n",
       "3               4  2009-10-04  13:00:00    S-014-3  45.615344 -122.612893   \n",
       "4               5  2009-10-11  08:00:00   S-003-40  47.590284 -122.698671   \n",
       "\n",
       "          county_name  subject_age subject_race subject_sex  ...  \\\n",
       "0  Walla Walla County         30.0        white        male  ...   \n",
       "1         King County         29.0        black        male  ...   \n",
       "2     Kittitas County         25.0        white        male  ...   \n",
       "3        Clark County         19.0        white      female  ...   \n",
       "4       Kitsap County         25.0        white        male  ...   \n",
       "\n",
       "  frisk_performed search_conducted search_basis raw_officer_race  \\\n",
       "0           False            False          NaN            WHITE   \n",
       "1           False            False          NaN            WHITE   \n",
       "2           False            False          NaN            WHITE   \n",
       "3           False            False          NaN            WHITE   \n",
       "4           False            False          NaN            WHITE   \n",
       "\n",
       "  raw_officer_gender raw_contact_type   raw_driver_race  raw_driver_gender  \\\n",
       "0                  -               --             White                  M   \n",
       "1                  -               --  African American                  M   \n",
       "2                  -               --             White                  M   \n",
       "3                  -               --             White                  F   \n",
       "4                  -               --             White                  M   \n",
       "\n",
       "  raw_search_type raw_enforcements  \n",
       "0               N            -|-|-  \n",
       "1               N              -|-  \n",
       "2               N              NaN  \n",
       "3               N      -|-|-|-|-|-  \n",
       "4               N              -|-  \n",
       "\n",
       "[5 rows x 30 columns]"
      ]
     },
     "execution_count": 5,
     "metadata": {},
     "output_type": "execute_result"
    }
   ],
   "source": [
    "wa.head()"
   ]
  },
  {
   "cell_type": "markdown",
   "metadata": {},
   "source": [
    "Before continuing we check the different data types for each column that we have in our main dataframe."
   ]
  },
  {
   "cell_type": "code",
   "execution_count": 6,
   "metadata": {},
   "outputs": [
    {
     "data": {
      "text/plain": [
       "raw_row_number          int64\n",
       "date                   object\n",
       "time                   object\n",
       "location               object\n",
       "lat                   float64\n",
       "lng                   float64\n",
       "county_name            object\n",
       "subject_age           float64\n",
       "subject_race           object\n",
       "subject_sex            object\n",
       "officer_race           object\n",
       "officer_sex            object\n",
       "department_name        object\n",
       "type                   object\n",
       "violation              object\n",
       "arrest_made            object\n",
       "citation_issued          bool\n",
       "warning_issued           bool\n",
       "outcome                object\n",
       "contraband_found       object\n",
       "frisk_performed          bool\n",
       "search_conducted         bool\n",
       "search_basis           object\n",
       "raw_officer_race       object\n",
       "raw_officer_gender     object\n",
       "raw_contact_type       object\n",
       "raw_driver_race        object\n",
       "raw_driver_gender      object\n",
       "raw_search_type        object\n",
       "raw_enforcements       object\n",
       "dtype: object"
      ]
     },
     "execution_count": 6,
     "metadata": {},
     "output_type": "execute_result"
    }
   ],
   "source": [
    "wa.dtypes"
   ]
  },
  {
   "cell_type": "code",
   "execution_count": 7,
   "metadata": {},
   "outputs": [],
   "source": [
    "#It is important for the followings parts to get the columns of date and time into a datetime type.\n",
    "#There ara many ways to do this tranformation of the data type but we decide to use the pandas function pd.to_datetime:\n",
    "\n",
    "#First for the date column:\n",
    "wa_datetime = pd.to_datetime(wa.date)\n",
    "wa.date = wa_datetime"
   ]
  },
  {
   "cell_type": "markdown",
   "metadata": {},
   "source": [
    "We verify that the transformation has worked."
   ]
  },
  {
   "cell_type": "code",
   "execution_count": 8,
   "metadata": {},
   "outputs": [
    {
     "data": {
      "text/plain": [
       "raw_row_number                         215317\n",
       "date                      2011-10-11 00:00:00\n",
       "time                                 01:00:00\n",
       "location                            I-005-197\n",
       "lat                                   48.0441\n",
       "lng                                  -122.181\n",
       "county_name                  Snohomish County\n",
       "subject_age                                20\n",
       "subject_race                            white\n",
       "subject_sex                            female\n",
       "officer_race                            white\n",
       "officer_sex                              male\n",
       "department_name       Washington State Patrol\n",
       "type                                vehicular\n",
       "violation                                 NaN\n",
       "arrest_made                             False\n",
       "citation_issued                         False\n",
       "warning_issued                           True\n",
       "outcome                               warning\n",
       "contraband_found                          NaN\n",
       "frisk_performed                         False\n",
       "search_conducted                        False\n",
       "search_basis                              NaN\n",
       "raw_officer_race                        WHITE\n",
       "raw_officer_gender                          -\n",
       "raw_contact_type                           --\n",
       "raw_driver_race                         White\n",
       "raw_driver_gender                           F\n",
       "raw_search_type                             N\n",
       "raw_enforcements                            -\n",
       "Name: 200000, dtype: object"
      ]
     },
     "execution_count": 8,
     "metadata": {},
     "output_type": "execute_result"
    }
   ],
   "source": [
    "wa.iloc[200000]"
   ]
  },
  {
   "cell_type": "markdown",
   "metadata": {},
   "source": [
    "We now want to split our dataset and create new ones that will contain information of two years each (We will take out the first year the year of legalization and the last year so that we are sure that the data is as complete and homogenoeus as possible)"
   ]
  },
  {
   "cell_type": "code",
   "execution_count": 9,
   "metadata": {},
   "outputs": [],
   "source": [
    "#We first reduce the dataframe to only the elements that interest us and we sort them according to the date\n",
    "wa_reduced=wa.loc[:,['date','subject_age','subject_race','subject_sex','search_conducted']]\n",
    "wa_reduced = wa_reduced.dropna()\n",
    "wa_reduced=wa_reduced.sort_values(by=['date'])"
   ]
  },
  {
   "cell_type": "code",
   "execution_count": 10,
   "metadata": {},
   "outputs": [],
   "source": [
    "wa_reduced_year=[]\n",
    "for date_ in wa_reduced.date:\n",
    "    wa_reduced_year.append(date_.year)\n",
    "wa_reduced['year']=wa_reduced_year"
   ]
  },
  {
   "cell_type": "code",
   "execution_count": 11,
   "metadata": {},
   "outputs": [],
   "source": [
    "wa_reduced=wa_reduced.loc[:,['year','subject_age','subject_race','subject_sex','search_conducted']]"
   ]
  },
  {
   "cell_type": "markdown",
   "metadata": {},
   "source": [
    "We also want to drop all races that are not white, hispanic, or black and all sexes that are not male or female (we didn't notice any, but this is just a precaution)\n",
    "All these reductions are for simplification purposes, and also to fit the study results as well as possible "
   ]
  },
  {
   "cell_type": "code",
   "execution_count": 12,
   "metadata": {},
   "outputs": [],
   "source": [
    "wa_reduced = wa_reduced[wa_reduced['subject_race'].isin(['black','hispanic','white'])]\n",
    "wa_reduced = wa_reduced[wa_reduced['subject_sex'].isin(['male','female'])]"
   ]
  },
  {
   "cell_type": "code",
   "execution_count": 13,
   "metadata": {},
   "outputs": [],
   "source": [
    "def intervals_from_dataframe(dataframe, legislation_date, drop_element):\n",
    "    #We want to repeat this action for every dataframe we might use so we programmed this function\n",
    "    \n",
    "    #As the dataframe is sorted the year of the first element and the year of the last element\n",
    "    #should respectively be the first and the last year of the dataset\n",
    "    begin_year=dataframe.year.iloc[0]\n",
    "    end_year=dataframe.year.iloc[-1]\n",
    "    \n",
    "    #We first create a linear range without the borders\n",
    "    year_range=np.arange(begin_year+1,end_year,1)\n",
    "    time_intervals=[]\n",
    "    \n",
    "    #We then try to pair the years. If there is an odd amount of year we will drop the element specified\n",
    "    #in the \"drop_element\" variable.\n",
    "    \n",
    "    #If the amount of years is even we set the drop_element to -1 so no element will be dropped\n",
    "    if len(year_range)%2 == 0:\n",
    "        drop_element=-1\n",
    "    \n",
    "    #we then go through the year_range vector and group the years two by two \n",
    "    k=0\n",
    "    for i in range(len(year_range)):\n",
    "        if i != drop_element:\n",
    "            if k== 0:\n",
    "                if (year_range[i]!=legislation_date) and (year_range[i]-1 !=legislation_date):\n",
    "                    time_intervals.append([year_range[i]])\n",
    "                    k=k+1\n",
    "            elif k==1:\n",
    "                if (year_range[i]!= legislation_date) and (year_range[i]-1 !=legislation_date):\n",
    "                    k=0\n",
    "                    time_intervals[-1].append(year_range[i])\n",
    "    return time_intervals"
   ]
  },
  {
   "cell_type": "code",
   "execution_count": 14,
   "metadata": {},
   "outputs": [],
   "source": [
    "def prep_from_time_intervals(dataframe,time_intervals):\n",
    "    #We can now create the different dataframes\n",
    "    dataframes=[]    \n",
    "    for time_interval in time_intervals:\n",
    "        dataframes.append((dataframe.loc[(dataframe.year==time_interval[0]) | (dataframe.year==time_interval[1] )]).loc[:,['subject_age','subject_race','subject_sex','search_conducted']] )\n",
    "    return dataframes"
   ]
  },
  {
   "cell_type": "code",
   "execution_count": 15,
   "metadata": {},
   "outputs": [
    {
     "data": {
      "text/plain": [
       "[[2010, 2011], [2014, 2015], [2016, 2017]]"
      ]
     },
     "execution_count": 15,
     "metadata": {},
     "output_type": "execute_result"
    }
   ],
   "source": [
    "time_intervals=intervals_from_dataframe(wa_reduced, wa_legalization_year, 0)\n",
    "time_intervals"
   ]
  },
  {
   "cell_type": "code",
   "execution_count": 16,
   "metadata": {},
   "outputs": [],
   "source": [
    "wa_collection=prep_from_time_intervals(wa_reduced,time_intervals)"
   ]
  },
  {
   "cell_type": "code",
   "execution_count": 17,
   "metadata": {},
   "outputs": [
    {
     "data": {
      "text/html": [
       "<div>\n",
       "<style scoped>\n",
       "    .dataframe tbody tr th:only-of-type {\n",
       "        vertical-align: middle;\n",
       "    }\n",
       "\n",
       "    .dataframe tbody tr th {\n",
       "        vertical-align: top;\n",
       "    }\n",
       "\n",
       "    .dataframe thead th {\n",
       "        text-align: right;\n",
       "    }\n",
       "</style>\n",
       "<table border=\"1\" class=\"dataframe\">\n",
       "  <thead>\n",
       "    <tr style=\"text-align: right;\">\n",
       "      <th></th>\n",
       "      <th>subject_age</th>\n",
       "      <th>subject_race</th>\n",
       "      <th>subject_sex</th>\n",
       "      <th>search_conducted</th>\n",
       "    </tr>\n",
       "  </thead>\n",
       "  <tbody>\n",
       "    <tr>\n",
       "      <th>1313459</th>\n",
       "      <td>54.0</td>\n",
       "      <td>white</td>\n",
       "      <td>male</td>\n",
       "      <td>False</td>\n",
       "    </tr>\n",
       "    <tr>\n",
       "      <th>1283533</th>\n",
       "      <td>23.0</td>\n",
       "      <td>white</td>\n",
       "      <td>male</td>\n",
       "      <td>False</td>\n",
       "    </tr>\n",
       "    <tr>\n",
       "      <th>1309749</th>\n",
       "      <td>39.0</td>\n",
       "      <td>white</td>\n",
       "      <td>female</td>\n",
       "      <td>False</td>\n",
       "    </tr>\n",
       "    <tr>\n",
       "      <th>1259220</th>\n",
       "      <td>43.0</td>\n",
       "      <td>black</td>\n",
       "      <td>male</td>\n",
       "      <td>False</td>\n",
       "    </tr>\n",
       "    <tr>\n",
       "      <th>1283451</th>\n",
       "      <td>28.0</td>\n",
       "      <td>white</td>\n",
       "      <td>male</td>\n",
       "      <td>False</td>\n",
       "    </tr>\n",
       "  </tbody>\n",
       "</table>\n",
       "</div>"
      ],
      "text/plain": [
       "         subject_age subject_race subject_sex  search_conducted\n",
       "1313459         54.0        white        male             False\n",
       "1283533         23.0        white        male             False\n",
       "1309749         39.0        white      female             False\n",
       "1259220         43.0        black        male             False\n",
       "1283451         28.0        white        male             False"
      ]
     },
     "execution_count": 17,
     "metadata": {},
     "output_type": "execute_result"
    }
   ],
   "source": [
    "wa_collection[0].head()"
   ]
  },
  {
   "cell_type": "markdown",
   "metadata": {},
   "source": [
    "### **Step 2**: Statistics\n",
    "\n",
    "We will now perform a decision tree analysis of our data. This is convenient because we have both categorical and numerical variables as inputs, and because the decision tree will ultimately return the factors which are more important to determine if a subject will be searched or not.\n",
    "\n",
    "We could have used a random forest analysis for better precision, but we found the decision tree analysis to be more convenient. The main reason is that decision trees are easy to represent, and are white box models, whereas random forests are more accurate but they are black box models, harder to represent, and impossible to run by hand.\n",
    "\n",
    "Sklearn offers the tools we need for these computations so we will use this library.\n",
    "\n",
    "The first thing we will need to do is to split our data into a training and testing set.\n",
    "\n",
    "This is extremely important to prevent overfitting, which is the main risk of a decision tree analysis (most of the work we will do to prevent this will be afterwards on hyperparameter tuning)\n",
    "\n",
    "We will divide data( already divided into time intervals) into 3 sets :\n",
    "A training set to train our decision tree classifier\n",
    "A validation set to tune our hyperparameters\n",
    "A testing set to check our results on \"never seen before\" data\n",
    "\n",
    "Since the dataset is so big, we will only use 10% of it as testing and 10% of it as validation.\n"
   ]
  },
  {
   "cell_type": "markdown",
   "metadata": {},
   "source": [
    "Unfortunately, sklearn does not handle categorical values for decision trees.\n",
    "\n",
    "Hence, we have to use label encoding to switch categorical values into numerical values.\n",
    "We will also turn our search_conducted values to binary"
   ]
  },
  {
   "cell_type": "markdown",
   "metadata": {},
   "source": [
    "We will repeat all this on all time intervals"
   ]
  },
  {
   "cell_type": "code",
   "execution_count": 18,
   "metadata": {},
   "outputs": [
    {
     "name": "stdout",
     "output_type": "stream",
     "text": [
      "3\n"
     ]
    }
   ],
   "source": [
    "print(len(time_intervals))"
   ]
  },
  {
   "cell_type": "code",
   "execution_count": 19,
   "metadata": {},
   "outputs": [],
   "source": [
    "def label_encoding (df):\n",
    "    LE_race = preprocessing.LabelEncoder()\n",
    "    LE_sex = preprocessing.LabelEncoder()\n",
    "\n",
    "    df['subject_race'] = LE_race.fit_transform(df['subject_race'])\n",
    "    df['subject_sex'] = LE_sex.fit_transform(df['subject_sex'])\n",
    "\n",
    "    df['search_conducted'] = df['search_conducted'].astype(int)\n",
    "\n",
    "    print(df.head())\n",
    "    \n",
    "    return df"
   ]
  },
  {
   "cell_type": "code",
   "execution_count": 20,
   "metadata": {},
   "outputs": [
    {
     "name": "stdout",
     "output_type": "stream",
     "text": [
      "         subject_age  subject_race  subject_sex  search_conducted\n",
      "1313459         54.0             2            1                 0\n",
      "1283533         23.0             2            1                 0\n",
      "1309749         39.0             2            0                 0\n",
      "1259220         43.0             0            1                 0\n",
      "1283451         28.0             2            1                 0\n"
     ]
    }
   ],
   "source": [
    "wa_collection[0]=label_encoding(wa_collection[0])"
   ]
  },
  {
   "cell_type": "code",
   "execution_count": 21,
   "metadata": {},
   "outputs": [
    {
     "name": "stdout",
     "output_type": "stream",
     "text": [
      "         subject_age  subject_race  subject_sex  search_conducted\n",
      "1702054         54.0             2            0                 0\n",
      "1686381         26.0             1            0                 0\n",
      "1706436         60.0             2            1                 0\n",
      "1683395         52.0             2            0                 0\n",
      "1675818         29.0             2            1                 0\n"
     ]
    }
   ],
   "source": [
    "wa_collection[1]=label_encoding(wa_collection[1])"
   ]
  },
  {
   "cell_type": "code",
   "execution_count": 22,
   "metadata": {},
   "outputs": [
    {
     "name": "stdout",
     "output_type": "stream",
     "text": [
      "         subject_age  subject_race  subject_sex  search_conducted\n",
      "9278694         34.0             2            1                 0\n",
      "9278695         31.0             2            1                 0\n",
      "9314036         27.0             2            1                 0\n",
      "9314035         36.0             2            1                 0\n",
      "9314014         33.0             2            0                 0\n"
     ]
    }
   ],
   "source": [
    "wa_collection[2]=label_encoding(wa_collection[2])"
   ]
  },
  {
   "cell_type": "markdown",
   "metadata": {},
   "source": [
    "Hence : \n",
    "\n",
    "**race** : black = 0, white = 2, hispanic = 1\n",
    "\n",
    "**sex** : female = 0, male = 1\n",
    "\n",
    "We will be able to get back the original results by using the inverse_transform method"
   ]
  },
  {
   "cell_type": "markdown",
   "metadata": {},
   "source": [
    "Before we perform the split between training, testing and validation sets, we can just check the global proportion of searches."
   ]
  },
  {
   "cell_type": "code",
   "execution_count": 23,
   "metadata": {},
   "outputs": [],
   "source": [
    "def check_global_proportion(df):\n",
    "    A = df[df['search_conducted'] == True].shape[0]\n",
    "    B = df.shape[0]\n",
    "    print(A/B)"
   ]
  },
  {
   "cell_type": "code",
   "execution_count": 24,
   "metadata": {},
   "outputs": [
    {
     "name": "stdout",
     "output_type": "stream",
     "text": [
      "0.033105342379307214\n"
     ]
    }
   ],
   "source": [
    "check_global_proportion(wa_collection[0])"
   ]
  },
  {
   "cell_type": "code",
   "execution_count": 25,
   "metadata": {},
   "outputs": [
    {
     "name": "stdout",
     "output_type": "stream",
     "text": [
      "0.024495047008109193\n"
     ]
    }
   ],
   "source": [
    "check_global_proportion(wa_collection[1])"
   ]
  },
  {
   "cell_type": "code",
   "execution_count": 26,
   "metadata": {},
   "outputs": [
    {
     "name": "stdout",
     "output_type": "stream",
     "text": [
      "0.02740529176752406\n"
     ]
    }
   ],
   "source": [
    "check_global_proportion(wa_collection[2])"
   ]
  },
  {
   "cell_type": "markdown",
   "metadata": {},
   "source": [
    "We can see that less than 3% of our drivers are searched. Our dataset is extremely imbalanced and thus we need to be extremely careful when fitting models. From now everytime we talk about a positive we refer to a search."
   ]
  },
  {
   "cell_type": "markdown",
   "metadata": {},
   "source": [
    "We can now perform our split, but also scale all values in order to handle them more effectively"
   ]
  },
  {
   "cell_type": "code",
   "execution_count": 27,
   "metadata": {},
   "outputs": [],
   "source": [
    "def split(df):\n",
    "    X = df[['subject_age','subject_race','subject_sex']].values\n",
    "    Y = df[['search_conducted']].values\n",
    "\n",
    "    X_scale = preprocessing.scale(X)\n",
    "\n",
    "    X_train, X_test, Y_train, Y_test = train_test_split(X_scale,Y,test_size = 0.2) #training set : 80% of samples\n",
    "    X_test, X_val, Y_test, Y_val = train_test_split(X_test, Y_test, test_size = 0.5) #10% testing 10% validation\n",
    "    \n",
    "    return X_train, X_test, Y_train, Y_test, X_val, Y_val"
   ]
  },
  {
   "cell_type": "code",
   "execution_count": 28,
   "metadata": {},
   "outputs": [],
   "source": [
    "wa_sets=[]\n",
    "for df in wa_collection:\n",
    "    X_train, X_test, Y_train, Y_test, X_val, Y_val=split(df)\n",
    "    wa_sets.append([X_train, X_test, Y_train, Y_test, X_val, Y_val])"
   ]
  },
  {
   "cell_type": "markdown",
   "metadata": {},
   "source": [
    "Now we have to define our decision trees and their parameters. Most of these parameters (min_samples_leaf, min_samples_split) are not really important based on the number of samples. However, the ones that will really be important for our model are the max_tree_depth, criterion and splitter. Max_tree_depth is especially important because it will ultimately be this parameter that determines which factors are important to evaluate if a subject will be searched, we thus need to evaluate the optimal tree depth.\n",
    "\n",
    "First, we will evaluate the whole dataset to calculate the precisions and to comment our methods. We will do so by using a tree with only 3 levels. Afterwards we will perform the same fit, but with other methods in order to ensure that our results are coherent.\n",
    "\n",
    "Our trees will be evaluated on accuracy, precision (fraction of our predicted positives that are true positives) and recall (fraction of all actual positives that are true positives).\n",
    "\n",
    "We will also, as a supplementary check, calculate these indicators on the training set. This is only to ensure that nothing went wrong, since we have some issues in our inital test."
   ]
  },
  {
   "cell_type": "code",
   "execution_count": 68,
   "metadata": {},
   "outputs": [
    {
     "name": "stdout",
     "output_type": "stream",
     "text": [
      "         year  subject_age  subject_race  subject_sex  search_conducted\n",
      "1225753  2009         31.0             2            0                 0\n",
      "1173623  2009         18.0             2            1                 0\n",
      "1173621  2009         31.0             2            1                 0\n",
      "1184276  2009         18.0             1            1                 0\n",
      "1166845  2009         18.0             1            0                 0\n"
     ]
    }
   ],
   "source": [
    "wa_reduced= label_encoding(wa_reduced)"
   ]
  },
  {
   "cell_type": "code",
   "execution_count": 69,
   "metadata": {},
   "outputs": [],
   "source": [
    "wa_tot=split(wa_reduced)\n",
    "X_train= wa_tot[0]\n",
    "X_test= wa_tot[1]\n",
    "Y_train= wa_tot[2]\n",
    "Y_test= wa_tot[3]\n",
    "X_val= wa_tot[4]\n",
    "Y_val= wa_tot[5]"
   ]
  },
  {
   "cell_type": "code",
   "execution_count": 104,
   "metadata": {},
   "outputs": [
    {
     "data": {
      "text/plain": [
       "DecisionTreeClassifier(max_depth=3)"
      ]
     },
     "execution_count": 104,
     "metadata": {},
     "output_type": "execute_result"
    }
   ],
   "source": [
    "WA_tree_example = DecisionTreeClassifier()\n",
    "WA_tree_example.set_params(max_depth = 3)\n",
    "WA_tree_example.fit(X_train,Y_train)"
   ]
  },
  {
   "cell_type": "code",
   "execution_count": 105,
   "metadata": {},
   "outputs": [
    {
     "name": "stdout",
     "output_type": "stream",
     "text": [
      "Accuracy on training set: 0.970\n",
      "Precision on training set: 0.485\n",
      "Recall on training set: 0.500\n"
     ]
    }
   ],
   "source": [
    "print(\"Accuracy on training set: {:.3f}\".format(WA_tree_example.score(X_train,Y_train)))\n",
    "print(\"Precision on training set: {:.3f}\".format(precision_score(Y_train,WA_tree_example.predict(X_train), average = 'macro')))\n",
    "print(\"Recall on training set: {:.3f}\".format(recall_score(Y_train,WA_tree_example.predict(X_train), average = 'macro')))"
   ]
  },
  {
   "cell_type": "code",
   "execution_count": 106,
   "metadata": {},
   "outputs": [
    {
     "name": "stdout",
     "output_type": "stream",
     "text": [
      "Accuracy on testing set: 0.971\n",
      "Precision on testing set: 0.485\n",
      "Recall on testing set: 0.500\n"
     ]
    }
   ],
   "source": [
    "print(\"Accuracy on testing set: {:.3f}\".format(WA_tree_example.score(X_test,Y_test)))\n",
    "print(\"Precision on testing set: {:.3f}\".format(precision_score(Y_test,WA_tree_example.predict(X_test), average = 'macro')))\n",
    "print(\"Recall on testing set: {:.3f}\".format(recall_score(Y_test,WA_tree_example.predict(X_test), average = 'macro')))"
   ]
  },
  {
   "cell_type": "code",
   "execution_count": 107,
   "metadata": {},
   "outputs": [
    {
     "data": {
      "text/plain": [
       "LogisticRegression()"
      ]
     },
     "execution_count": 107,
     "metadata": {},
     "output_type": "execute_result"
    }
   ],
   "source": [
    "WA_tree_example = LogisticRegression()\n",
    "WA_tree_example.fit(X_train,Y_train)"
   ]
  },
  {
   "cell_type": "code",
   "execution_count": 108,
   "metadata": {},
   "outputs": [
    {
     "name": "stdout",
     "output_type": "stream",
     "text": [
      "Accuracy on training set: 0.970\n",
      "Precision on training set: 0.485\n",
      "Recall on training set: 0.500\n"
     ]
    }
   ],
   "source": [
    "print(\"Accuracy on training set: {:.3f}\".format(WA_tree_example.score(X_train,Y_train)))\n",
    "print(\"Precision on training set: {:.3f}\".format(precision_score(Y_train,WA_tree_example.predict(X_train), average = 'macro')))\n",
    "print(\"Recall on training set: {:.3f}\".format(recall_score(Y_train,WA_tree_example.predict(X_train), average = 'macro')))"
   ]
  },
  {
   "cell_type": "code",
   "execution_count": 109,
   "metadata": {},
   "outputs": [
    {
     "name": "stdout",
     "output_type": "stream",
     "text": [
      "Accuracy on testing set: 0.971\n",
      "Precision on testing set: 0.485\n",
      "Recall on testing set: 0.500\n"
     ]
    }
   ],
   "source": [
    "print(\"Accuracy on testing set: {:.3f}\".format(WA_tree_example.score(X_test,Y_test)))\n",
    "print(\"Precision on testing set: {:.3f}\".format(precision_score(Y_test,WA_tree_example.predict(X_test), average = 'macro')))\n",
    "print(\"Recall on testing set: {:.3f}\".format(recall_score(Y_test,WA_tree_example.predict(X_test), average = 'macro')))"
   ]
  },
  {
   "cell_type": "code",
   "execution_count": 110,
   "metadata": {},
   "outputs": [
    {
     "data": {
      "text/plain": [
       "SGDClassifier()"
      ]
     },
     "execution_count": 110,
     "metadata": {},
     "output_type": "execute_result"
    }
   ],
   "source": [
    "WA_tree_example = SGDClassifier(loss='hinge',penalty='l2',max_iter=1000)\n",
    "WA_tree_example.fit(X_train,Y_train)"
   ]
  },
  {
   "cell_type": "code",
   "execution_count": 111,
   "metadata": {},
   "outputs": [
    {
     "name": "stdout",
     "output_type": "stream",
     "text": [
      "Accuracy on training set: 0.970\n",
      "Precision on training set: 0.485\n",
      "Recall on training set: 0.500\n"
     ]
    }
   ],
   "source": [
    "print(\"Accuracy on training set: {:.3f}\".format(WA_tree_example.score(X_train,Y_train)))\n",
    "print(\"Precision on training set: {:.3f}\".format(precision_score(Y_train,WA_tree_example.predict(X_train), average = 'macro')))\n",
    "print(\"Recall on training set: {:.3f}\".format(recall_score(Y_train,WA_tree_example.predict(X_train), average = 'macro')))"
   ]
  },
  {
   "cell_type": "code",
   "execution_count": 112,
   "metadata": {},
   "outputs": [
    {
     "name": "stdout",
     "output_type": "stream",
     "text": [
      "Accuracy on testing set: 0.971\n",
      "Precision on testing set: 0.485\n",
      "Recall on testing set: 0.500\n"
     ]
    }
   ],
   "source": [
    "print(\"Accuracy on testing set: {:.3f}\".format(WA_tree_example.score(X_test,Y_test)))\n",
    "print(\"Precision on testing set: {:.3f}\".format(precision_score(Y_test,WA_tree_example.predict(X_test), average = 'macro')))\n",
    "print(\"Recall on testing set: {:.3f}\".format(recall_score(Y_test,WA_tree_example.predict(X_test), average = 'macro')))"
   ]
  },
  {
   "cell_type": "markdown",
   "metadata": {},
   "source": [
    "The values for the respective indicators are extremely consistent on both the training and testing set, and no matter the model we used. Therefore, we can conclude that a decision tree analysis is appropriate. Precision and recall are not optimal, but considering the small proportion of positives in the population they are actually sufficient. Moreover, what this tells us is that there is still a huge human factor in searches which we cannnot take into account in our estimations."
   ]
  },
  {
   "cell_type": "markdown",
   "metadata": {},
   "source": [
    "### **Step 3** : Optimization\n",
    "\n",
    "We will perform a grid search cross validation. We could also perform a randomized search, but here we will test relatively few combinations of hyperparameters, so a grid search will not take too much time to compute, which is the main risk to this method and the main argument to choose a randomized search over it.\n",
    "\n",
    "Here we will try different parameters :\n",
    "\n",
    "gini or entropy criterion\n",
    "\n",
    "best or random splitter\n",
    "\n",
    "The last one is especially important because it will determine the number of factors needed to make the best prediction possible of our data\n",
    "\n",
    "We will use as scoring precision, since we mainly want to improve our search rate predictions, and since they are already few searches."
   ]
  },
  {
   "cell_type": "code",
   "execution_count": 79,
   "metadata": {},
   "outputs": [
    {
     "data": {
      "text/plain": [
       "GridSearchCV(estimator=DecisionTreeClassifier(),\n",
       "             param_grid={'criterion': ('gini', 'entropy'), 'max_depth': [1, 10],\n",
       "                         'splitter': ('best', 'random')},\n",
       "             scoring='precision')"
      ]
     },
     "execution_count": 79,
     "metadata": {},
     "output_type": "execute_result"
    }
   ],
   "source": [
    "WA_tree = DecisionTreeClassifier()\n",
    "parameters = {'criterion' : ('gini','entropy'), 'splitter' : ('best','random'), 'max_depth'  : [1,10]}\n",
    "GS_WA = GridSearchCV(WA_tree, parameters, scoring = 'precision')\n",
    "GS_WA.fit(X_val,Y_val)"
   ]
  },
  {
   "cell_type": "code",
   "execution_count": 80,
   "metadata": {},
   "outputs": [
    {
     "name": "stdout",
     "output_type": "stream",
     "text": [
      "Best criterion: gini\n",
      "Best splitter: best\n",
      "Best max_depth: 1\n",
      "{'ccp_alpha': 0.0, 'class_weight': None, 'criterion': 'gini', 'max_depth': 1, 'max_features': None, 'max_leaf_nodes': None, 'min_impurity_decrease': 0.0, 'min_impurity_split': None, 'min_samples_leaf': 1, 'min_samples_split': 2, 'min_weight_fraction_leaf': 0.0, 'presort': 'deprecated', 'random_state': None, 'splitter': 'best'}\n"
     ]
    }
   ],
   "source": [
    "print('Best criterion:', GS_WA.best_estimator_.get_params()['criterion'])\n",
    "print('Best splitter:',  GS_WA.best_estimator_.get_params()['splitter'])\n",
    "print('Best max_depth:', GS_WA.best_estimator_.get_params()['max_depth'])\n",
    "print(GS_WA.best_estimator_.get_params(['WA_tree']))"
   ]
  },
  {
   "cell_type": "code",
   "execution_count": 81,
   "metadata": {},
   "outputs": [],
   "source": [
    "WA_tree = GS_WA.best_estimator_.fit(X_train,Y_train)"
   ]
  },
  {
   "cell_type": "code",
   "execution_count": 82,
   "metadata": {},
   "outputs": [
    {
     "name": "stdout",
     "output_type": "stream",
     "text": [
      "Accuracy on training set: 0.970\n",
      "Precision on training set: 0.485\n",
      "Recall on training set: 0.500\n"
     ]
    }
   ],
   "source": [
    "print(\"Accuracy on training set: {:.3f}\".format(WA_tree.score(X_train,Y_train)))\n",
    "print(\"Precision on training set: {:.3f}\".format(precision_score(Y_train,WA_tree.predict(X_train), average = 'macro')))\n",
    "print(\"Recall on training set: {:.3f}\".format(recall_score(Y_train,WA_tree.predict(X_train), average = 'macro')))"
   ]
  },
  {
   "cell_type": "code",
   "execution_count": 83,
   "metadata": {},
   "outputs": [
    {
     "name": "stdout",
     "output_type": "stream",
     "text": [
      "Accuracy on testing set: 0.971\n",
      "Precision on testing set: 0.485\n",
      "Recall on testing set: 0.500\n"
     ]
    }
   ],
   "source": [
    "print(\"Accuracy on testing set: {:.3f}\".format(WA_tree.score(X_test,Y_test)))\n",
    "print(\"Precision on testing set: {:.3f}\".format(precision_score(Y_test,WA_tree.predict(X_test), average = 'macro')))\n",
    "print(\"Recall on testing set: {:.3f}\".format(recall_score(Y_test,WA_tree.predict(X_test), average = 'macro')))"
   ]
  },
  {
   "cell_type": "markdown",
   "metadata": {},
   "source": [
    "### **Step 4**:  Visualization\n",
    "We now want to visualize the results of our analysis"
   ]
  },
  {
   "cell_type": "code",
   "execution_count": 63,
   "metadata": {},
   "outputs": [],
   "source": [
    "trees=[]\n",
    "for sets in wa_sets:\n",
    "    new_tree = DecisionTreeClassifier()\n",
    "    new_tree.set_params(max_depth = 3)\n",
    "    new_tree.fit(sets[0],sets[2])\n",
    "    trees.append(new_tree)"
   ]
  },
  {
   "cell_type": "code",
   "execution_count": 64,
   "metadata": {},
   "outputs": [
    {
     "data": {
      "image/png": "[encoded data removed]",
      "text/plain": [
       "<Figure size 1440x576 with 1 Axes>"
      ]
     },
     "metadata": {
      "needs_background": "light"
     },
     "output_type": "display_data"
    }
   ],
   "source": [
    "fig, axis = plt.subplots(figsize=(20, 8))\n",
    "plot_tree(trees[0], ax=axis, feature_names=['subject_age','subject_race','subject_sex'])\n",
    "fig.savefig(\"tree1.png\")"
   ]
  },
  {
   "cell_type": "code",
   "execution_count": 65,
   "metadata": {},
   "outputs": [
    {
     "data": {
      "image/png": "[encoded data removed]",
      "text/plain": [
       "<Figure size 1440x576 with 1 Axes>"
      ]
     },
     "metadata": {
      "needs_background": "light"
     },
     "output_type": "display_data"
    }
   ],
   "source": [
    "fig, axis = plt.subplots(figsize=(20, 8))\n",
    "plot_tree(trees[1], ax=axis, feature_names=['subject_age','subject_race','subject_sex'])\n",
    "fig.savefig(\"tree2.png\")"
   ]
  },
  {
   "cell_type": "markdown",
   "metadata": {},
   "source": [
    "\n",
    "\n"
   ]
  },
  {
   "cell_type": "code",
   "execution_count": 66,
   "metadata": {},
   "outputs": [
    {
     "data": {
      "image/png": "[encoded data removed]",
      "text/plain": [
       "<Figure size 1440x576 with 1 Axes>"
      ]
     },
     "metadata": {
      "needs_background": "light"
     },
     "output_type": "display_data"
    }
   ],
   "source": [
    "fig, axis = plt.subplots(figsize=(20, 8))\n",
    "plot_tree(trees[2], ax=axis, feature_names=['subject_age','subject_race','subject_sex'])\n",
    "fig.savefig(\"tree3.png\")"
   ]
  },
  {
   "cell_type": "markdown",
   "metadata": {},
   "source": [
    "Based on these trees, we can already draw some conclusions. The first one is that subject age seems to be the most important factor in determining if a subject will be searched or not. Intuitively, we can assume that police officers are not really suspicious, or eager to search elderly drivers. Thus, this seems coherent. Race seems to be the second most important factor, as expected with the study results, but the subject sex seems to practically be as important as the subject race. "
   ]
  },
  {
   "cell_type": "markdown",
   "metadata": {},
   "source": []
  },
  {
   "cell_type": "markdown",
   "metadata": {},
   "source": [
    "### **Step 5**:  Comparison with the state of colorado "
   ]
  },
  {
   "cell_type": "code",
   "execution_count": 94,
   "metadata": {},
   "outputs": [],
   "source": [
    "if computer == 'Nathan':\n",
    "    filename = \"data/co_statewide_2020_04_01.csv\" #where your data should be :)\n",
    "    co = pd.read_csv(filename)"
   ]
  },
  {
   "cell_type": "code",
   "execution_count": 95,
   "metadata": {},
   "outputs": [
    {
     "data": {
      "text/html": [
       "<div>\n",
       "<style scoped>\n",
       "    .dataframe tbody tr th:only-of-type {\n",
       "        vertical-align: middle;\n",
       "    }\n",
       "\n",
       "    .dataframe tbody tr th {\n",
       "        vertical-align: top;\n",
       "    }\n",
       "\n",
       "    .dataframe thead th {\n",
       "        text-align: right;\n",
       "    }\n",
       "</style>\n",
       "<table border=\"1\" class=\"dataframe\">\n",
       "  <thead>\n",
       "    <tr style=\"text-align: right;\">\n",
       "      <th></th>\n",
       "      <th>raw_row_number</th>\n",
       "      <th>date</th>\n",
       "      <th>time</th>\n",
       "      <th>location</th>\n",
       "      <th>county_name</th>\n",
       "      <th>subject_age</th>\n",
       "      <th>subject_race</th>\n",
       "      <th>subject_sex</th>\n",
       "      <th>officer_id_hash</th>\n",
       "      <th>officer_sex</th>\n",
       "      <th>type</th>\n",
       "      <th>violation</th>\n",
       "      <th>arrest_made</th>\n",
       "      <th>citation_issued</th>\n",
       "      <th>warning_issued</th>\n",
       "      <th>outcome</th>\n",
       "      <th>contraband_found</th>\n",
       "      <th>search_conducted</th>\n",
       "      <th>search_basis</th>\n",
       "      <th>raw_Ethnicity</th>\n",
       "    </tr>\n",
       "  </thead>\n",
       "  <tbody>\n",
       "    <tr>\n",
       "      <th>0</th>\n",
       "      <td>1947986|1947987</td>\n",
       "      <td>2013-06-19</td>\n",
       "      <td>NaN</td>\n",
       "      <td>19, I70, 8</td>\n",
       "      <td>Mesa County</td>\n",
       "      <td>26.0</td>\n",
       "      <td>hispanic</td>\n",
       "      <td>male</td>\n",
       "      <td>b942632983</td>\n",
       "      <td>male</td>\n",
       "      <td>vehicular</td>\n",
       "      <td>Driver's Vision Obstructed Through Required Gl...</td>\n",
       "      <td>False</td>\n",
       "      <td>True</td>\n",
       "      <td>False</td>\n",
       "      <td>citation</td>\n",
       "      <td>NaN</td>\n",
       "      <td>False</td>\n",
       "      <td>NaN</td>\n",
       "      <td>H</td>\n",
       "    </tr>\n",
       "    <tr>\n",
       "      <th>1</th>\n",
       "      <td>1537576</td>\n",
       "      <td>2012-08-24</td>\n",
       "      <td>NaN</td>\n",
       "      <td>254, H285, 11</td>\n",
       "      <td>Jefferson County</td>\n",
       "      <td>NaN</td>\n",
       "      <td>NaN</td>\n",
       "      <td>NaN</td>\n",
       "      <td>f3d4f46927</td>\n",
       "      <td>NaN</td>\n",
       "      <td>vehicular</td>\n",
       "      <td>NaN</td>\n",
       "      <td>False</td>\n",
       "      <td>False</td>\n",
       "      <td>False</td>\n",
       "      <td>NaN</td>\n",
       "      <td>NaN</td>\n",
       "      <td>False</td>\n",
       "      <td>NaN</td>\n",
       "      <td>NaN</td>\n",
       "    </tr>\n",
       "    <tr>\n",
       "      <th>2</th>\n",
       "      <td>1581594</td>\n",
       "      <td>2012-09-23</td>\n",
       "      <td>NaN</td>\n",
       "      <td>115, I76, 13</td>\n",
       "      <td>Logan County</td>\n",
       "      <td>52.0</td>\n",
       "      <td>white</td>\n",
       "      <td>male</td>\n",
       "      <td>6e49e2fbc8</td>\n",
       "      <td>male</td>\n",
       "      <td>vehicular</td>\n",
       "      <td>Speeding (10-19 MPH Over the Maximum 75 MPH Li...</td>\n",
       "      <td>False</td>\n",
       "      <td>False</td>\n",
       "      <td>True</td>\n",
       "      <td>warning</td>\n",
       "      <td>NaN</td>\n",
       "      <td>False</td>\n",
       "      <td>NaN</td>\n",
       "      <td>W</td>\n",
       "    </tr>\n",
       "    <tr>\n",
       "      <th>3</th>\n",
       "      <td>1009205</td>\n",
       "      <td>2011-08-25</td>\n",
       "      <td>NaN</td>\n",
       "      <td>197, H85, 47</td>\n",
       "      <td>Douglas County</td>\n",
       "      <td>32.0</td>\n",
       "      <td>white</td>\n",
       "      <td>female</td>\n",
       "      <td>eaea851669</td>\n",
       "      <td>NaN</td>\n",
       "      <td>vehicular</td>\n",
       "      <td>Speeding (10-19 MPH Over Prima Facie Limit *)</td>\n",
       "      <td>False</td>\n",
       "      <td>True</td>\n",
       "      <td>False</td>\n",
       "      <td>citation</td>\n",
       "      <td>NaN</td>\n",
       "      <td>False</td>\n",
       "      <td>NaN</td>\n",
       "      <td>W</td>\n",
       "    </tr>\n",
       "    <tr>\n",
       "      <th>4</th>\n",
       "      <td>1932619</td>\n",
       "      <td>2013-06-08</td>\n",
       "      <td>NaN</td>\n",
       "      <td>107, H287, 45</td>\n",
       "      <td>Kiowa County</td>\n",
       "      <td>33.0</td>\n",
       "      <td>hispanic</td>\n",
       "      <td>male</td>\n",
       "      <td>d18e34d749</td>\n",
       "      <td>male</td>\n",
       "      <td>vehicular</td>\n",
       "      <td>Failed to Drive in Single Lane (Weaving)</td>\n",
       "      <td>False</td>\n",
       "      <td>False</td>\n",
       "      <td>True</td>\n",
       "      <td>warning</td>\n",
       "      <td>NaN</td>\n",
       "      <td>False</td>\n",
       "      <td>NaN</td>\n",
       "      <td>H</td>\n",
       "    </tr>\n",
       "  </tbody>\n",
       "</table>\n",
       "</div>"
      ],
      "text/plain": [
       "    raw_row_number        date  time       location       county_name  \\\n",
       "0  1947986|1947987  2013-06-19   NaN     19, I70, 8       Mesa County   \n",
       "1          1537576  2012-08-24   NaN  254, H285, 11  Jefferson County   \n",
       "2          1581594  2012-09-23   NaN   115, I76, 13      Logan County   \n",
       "3          1009205  2011-08-25   NaN   197, H85, 47    Douglas County   \n",
       "4          1932619  2013-06-08   NaN  107, H287, 45      Kiowa County   \n",
       "\n",
       "   subject_age subject_race subject_sex officer_id_hash officer_sex  \\\n",
       "0         26.0     hispanic        male      b942632983        male   \n",
       "1          NaN          NaN         NaN      f3d4f46927         NaN   \n",
       "2         52.0        white        male      6e49e2fbc8        male   \n",
       "3         32.0        white      female      eaea851669         NaN   \n",
       "4         33.0     hispanic        male      d18e34d749        male   \n",
       "\n",
       "        type                                          violation arrest_made  \\\n",
       "0  vehicular  Driver's Vision Obstructed Through Required Gl...       False   \n",
       "1  vehicular                                                NaN       False   \n",
       "2  vehicular  Speeding (10-19 MPH Over the Maximum 75 MPH Li...       False   \n",
       "3  vehicular      Speeding (10-19 MPH Over Prima Facie Limit *)       False   \n",
       "4  vehicular           Failed to Drive in Single Lane (Weaving)       False   \n",
       "\n",
       "  citation_issued warning_issued   outcome contraband_found search_conducted  \\\n",
       "0            True          False  citation              NaN            False   \n",
       "1           False          False       NaN              NaN            False   \n",
       "2           False           True   warning              NaN            False   \n",
       "3            True          False  citation              NaN            False   \n",
       "4           False           True   warning              NaN            False   \n",
       "\n",
       "  search_basis raw_Ethnicity  \n",
       "0          NaN             H  \n",
       "1          NaN           NaN  \n",
       "2          NaN             W  \n",
       "3          NaN             W  \n",
       "4          NaN             H  "
      ]
     },
     "execution_count": 95,
     "metadata": {},
     "output_type": "execute_result"
    }
   ],
   "source": [
    "co.head()"
   ]
  },
  {
   "cell_type": "code",
   "execution_count": 96,
   "metadata": {},
   "outputs": [],
   "source": [
    "#Changing the date column:\n",
    "co_datetime = pd.to_datetime(co.date)\n",
    "co.date = co_datetime"
   ]
  },
  {
   "cell_type": "code",
   "execution_count": 98,
   "metadata": {},
   "outputs": [],
   "source": [
    "#We prepare the date in the same way\n",
    "co_reduced=co.loc[:,['date','subject_age','subject_race','subject_sex','search_conducted']]\n",
    "co_reduced = co_reduced.dropna()\n",
    "co_reduced=co_reduced.sort_values(by=['date'])\n",
    "co_reduced_year=[]\n",
    "\n",
    "for date_ in co_reduced.date:\n",
    "    co_reduced_year.append(date_.year)\n",
    "co_reduced['year']=co_reduced_year\n",
    "\n",
    "co_reduced=co_reduced.loc[:,['year','subject_age','subject_race','subject_sex','search_conducted']]\n",
    "\n",
    "co_reduced = co_reduced[co_reduced['subject_race'].isin(['black','hispanic','white'])]\n",
    "co_reduced = co_reduced[co_reduced['subject_sex'].isin(['male','female'])]"
   ]
  },
  {
   "cell_type": "code",
   "execution_count": 99,
   "metadata": {},
   "outputs": [],
   "source": [
    "co_collection=prep_from_time_intervals(co_reduced,time_intervals)"
   ]
  },
  {
   "cell_type": "code",
   "execution_count": 100,
   "metadata": {},
   "outputs": [
    {
     "name": "stdout",
     "output_type": "stream",
     "text": [
      "        subject_age  subject_race  subject_sex  search_conducted\n",
      "93069          16.0             2            1                 0\n",
      "135266         28.0             2            1                 0\n",
      "72982          22.0             2            0                 0\n",
      "72983          33.0             2            1                 0\n",
      "72984          35.0             2            1                 0\n"
     ]
    }
   ],
   "source": [
    "co_collection[0]=label_encoding(co_collection[0])"
   ]
  },
  {
   "cell_type": "code",
   "execution_count": 101,
   "metadata": {},
   "outputs": [
    {
     "name": "stdout",
     "output_type": "stream",
     "text": [
      "        subject_age  subject_race  subject_sex  search_conducted\n",
      "859648         31.0             1            0                 0\n",
      "859549         18.0             2            0                 0\n",
      "859550         49.0             2            1                 1\n",
      "859494         19.0             2            1                 0\n",
      "859551         42.0             2            0                 0\n"
     ]
    }
   ],
   "source": [
    "co_collection[1]=label_encoding(co_collection[1])"
   ]
  },
  {
   "cell_type": "code",
   "execution_count": 102,
   "metadata": {},
   "outputs": [
    {
     "name": "stdout",
     "output_type": "stream",
     "text": [
      "         subject_age  subject_race  subject_sex  search_conducted\n",
      "1765510         54.0             2            1                 0\n",
      "1765532         49.0             2            1                 0\n",
      "1765531         33.0             2            1                 0\n",
      "1765219         71.0             2            0                 0\n",
      "1765479         32.0             2            1                 0\n"
     ]
    }
   ],
   "source": [
    "co_collection[2]=label_encoding(co_collection[2])"
   ]
  },
  {
   "cell_type": "code",
   "execution_count": 130,
   "metadata": {},
   "outputs": [],
   "source": [
    "co_sets=[]\n",
    "for df in co_collection:\n",
    "    co_sets.append( (df.loc[:,['subject_age','subject_race','subject_sex']]).values)\n",
    "    co_sets.append( (df.loc[:,['search_conducted']]).values)"
   ]
  },
  {
   "cell_type": "code",
   "execution_count": 138,
   "metadata": {},
   "outputs": [
    {
     "name": "stdout",
     "output_type": "stream",
     "text": [
      "Colorado 2010-2011\n",
      "Accuracy on set: 0.994\n",
      "Precision on set: 0.497\n",
      "Recall on set: 0.500\n",
      "\n",
      "Colorado 2014-2015\n",
      "Accuracy on set: 0.998\n",
      "Precision on set: 0.499\n",
      "Recall on set: 0.500\n",
      "\n",
      "Colorado 2016-2017\n",
      "Accuracy on set: 0.998\n",
      "Precision on set: 0.499\n",
      "Recall on set: 0.500\n",
      "\n"
     ]
    }
   ],
   "source": [
    "for i in range(len(trees)):\n",
    "    print('Colorado ' + str(time_intervals[i][0]) + '-' + str(time_intervals[i][1]))\n",
    "    print(\"Accuracy on set: {:.3f}\".format(trees[i].score(co_sets[2*i],co_sets[2*i+1])))\n",
    "    print(\"Precision on set: {:.3f}\".format(precision_score(co_sets[2*i+1],trees[i].predict(co_sets[2*i]), average = 'macro')))\n",
    "    print(\"Recall on set: {:.3f}\".format(recall_score(co_sets[2*i+1],trees[i].predict(co_sets[2*i]), average = 'macro')))\n",
    "    print()"
   ]
  },
  {
   "cell_type": "code",
   "execution_count": null,
   "metadata": {},
   "outputs": [],
   "source": []
  }
 ],
 "metadata": {
  "kernelspec": {
   "display_name": "Python 3",
   "language": "python",
   "name": "python3"
  },
  "language_info": {
   "codemirror_mode": {
    "name": "ipython",
    "version": 3
   },
   "file_extension": ".py",
   "mimetype": "text/x-python",
   "name": "python",
   "nbconvert_exporter": "python",
   "pygments_lexer": "ipython3",
   "version": "3.8.3"
  }
 },
 "nbformat": 4,
 "nbformat_minor": 4
}
