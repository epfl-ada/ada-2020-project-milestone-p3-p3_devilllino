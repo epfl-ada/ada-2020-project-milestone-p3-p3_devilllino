{
 "cells": [
  {
   "cell_type": "markdown",
   "metadata": {},
   "source": [
    "# **Ada Project : Creative extension**\n",
    "## Milestone P4\n",
    "\n",
    "### **Supplementary method :** Decision tree\n",
    "\n",
    "The idea of the original paper is to demonstarte (if possible) that there is a racial profiling trend across the united states, the authors do so by using severall methods that mostly take data across all available states. We have decided here to limit the search to one state, as we think that there may be different trends in the different states (As demonstrated for instance by the marijuane legalisation/search rate test). We also decided to implement a method that the paper hasn't used: The decision tree, which we think is a robust statistical test that correspond to the data we have. We know that our conclusions won't be able to caracterize the polices officers behaviour across the states but only to the specifical instance of the washington state patrol. "
   ]
  },
  {
   "cell_type": "code",
   "execution_count": 31,
   "metadata": {},
   "outputs": [],
   "source": [
    "#We first import all the libraries we will need\n",
    "\n",
    "import pandas as pd\n",
    "import numpy as np\n",
    "import seaborn as sns\n",
    "\n",
    "import matplotlib.pyplot as plt\n",
    "import matplotlib\n",
    "\n",
    "import warnings\n",
    "import random\n",
    "\n",
    "from datetime import datetime, date, time\n",
    "\n",
    "from sklearn.tree import DecisionTreeClassifier, plot_tree\n",
    "from sklearn.linear_model import LogisticRegression, SGDClassifier\n",
    "from sklearn.model_selection import RandomizedSearchCV,train_test_split, GridSearchCV\n",
    "from sklearn import preprocessing\n",
    "from sklearn.metrics import precision_score, recall_score\n",
    "from sklearn.svm import LinearSVC\n",
    "\n",
    "\n",
    "warnings.filterwarnings('ignore')"
   ]
  },
  {
   "cell_type": "markdown",
   "metadata": {},
   "source": [
    "### **Step 1**:  Source of Data\n",
    "The original paper gives a link to the source of their data the Stanford Open Policing project :https://openpolicing.stanford.edu/data/. Sevrall million of stops are categorized there but as we said we decided to limit ourselves to only one state, which we thought needed to be heavily populated and where state patrols had recorded  a lot of stops owith information on the racial appearence of the subjects, the time of the stop, the subject age, the subjet sex and if a search had been conducted. Our choice was therefore the state of washington and the 11 million state patrol stopps.\n",
    "\n",
    "But this also meant that the file containing all these stops was really large and the computation time being so long we had to take only parts of the original csv.  To achieve this, as the data is sorted by date, we sampled the orignal dataset randomly and took a about 500 000. That is aproximately 4,5% . \n",
    "\n",
    "Some of us also had good enough computers to use the whole dataset, so we made it possible to switch."
   ]
  },
  {
   "cell_type": "code",
   "execution_count": 32,
   "metadata": {},
   "outputs": [],
   "source": [
    "#We first define which computer is used. For the final rendering we will uses Nathan computer with the whole dataset but we still decided to keep the other options.\n",
    "computer ='Nathan'"
   ]
  },
  {
   "cell_type": "code",
   "execution_count": 33,
   "metadata": {},
   "outputs": [],
   "source": [
    "#Loading our dataset splited in a random way for the different computers:\n",
    "if computer =='Alex':\n",
    "    filename = \"Desktop/m_3/wa.csv\" #path on Alex computer\n",
    "    \n",
    "    n = sum(1 for line in open(filename)) - 1 #number of records in file (excludes header)\n",
    "    s = 500000 #desired sample size, longer sample sizes will significantly increase runtime\n",
    "    skip = sorted(random.sample(range(1,n+1),n-s)) #the 0-indexed header will not be included in the skip list\n",
    "\n",
    "    wa = pd.read_csv(filename, skiprows=skip) #uncomment this line and comment the following line for only importing s samples\n",
    "    \n",
    "elif computer == 'Jean':\n",
    "    filename = \"/Users/jeandevillard/Desktop/m_3/wa.csv\" #path on Jean computer\n",
    "    wa = pd.read_csv(filename)\n",
    "\n",
    "elif computer == 'Nathan':\n",
    "    filename = \"data/wa_statewide_2020_04_01.csv\" #where your data should be :)\n",
    "    wa = pd.read_csv(filename)"
   ]
  },
  {
   "cell_type": "code",
   "execution_count": 34,
   "metadata": {},
   "outputs": [
    {
     "data": {
      "text/html": [
       "<div>\n",
       "<style scoped>\n",
       "    .dataframe tbody tr th:only-of-type {\n",
       "        vertical-align: middle;\n",
       "    }\n",
       "\n",
       "    .dataframe tbody tr th {\n",
       "        vertical-align: top;\n",
       "    }\n",
       "\n",
       "    .dataframe thead th {\n",
       "        text-align: right;\n",
       "    }\n",
       "</style>\n",
       "<table border=\"1\" class=\"dataframe\">\n",
       "  <thead>\n",
       "    <tr style=\"text-align: right;\">\n",
       "      <th></th>\n",
       "      <th>raw_row_number</th>\n",
       "      <th>date</th>\n",
       "      <th>time</th>\n",
       "      <th>location</th>\n",
       "      <th>lat</th>\n",
       "      <th>lng</th>\n",
       "      <th>county_name</th>\n",
       "      <th>subject_age</th>\n",
       "      <th>subject_race</th>\n",
       "      <th>subject_sex</th>\n",
       "      <th>...</th>\n",
       "      <th>frisk_performed</th>\n",
       "      <th>search_conducted</th>\n",
       "      <th>search_basis</th>\n",
       "      <th>raw_officer_race</th>\n",
       "      <th>raw_officer_gender</th>\n",
       "      <th>raw_contact_type</th>\n",
       "      <th>raw_driver_race</th>\n",
       "      <th>raw_driver_gender</th>\n",
       "      <th>raw_search_type</th>\n",
       "      <th>raw_enforcements</th>\n",
       "    </tr>\n",
       "  </thead>\n",
       "  <tbody>\n",
       "    <tr>\n",
       "      <th>0</th>\n",
       "      <td>1</td>\n",
       "      <td>2009-10-27</td>\n",
       "      <td>11:00:00</td>\n",
       "      <td>S-012-344</td>\n",
       "      <td>46.114221</td>\n",
       "      <td>-118.224510</td>\n",
       "      <td>Walla Walla County</td>\n",
       "      <td>30.0</td>\n",
       "      <td>white</td>\n",
       "      <td>male</td>\n",
       "      <td>...</td>\n",
       "      <td>False</td>\n",
       "      <td>False</td>\n",
       "      <td>NaN</td>\n",
       "      <td>WHITE</td>\n",
       "      <td>-</td>\n",
       "      <td>--</td>\n",
       "      <td>White</td>\n",
       "      <td>M</td>\n",
       "      <td>N</td>\n",
       "      <td>-|-|-</td>\n",
       "    </tr>\n",
       "    <tr>\n",
       "      <th>1</th>\n",
       "      <td>2</td>\n",
       "      <td>2009-10-04</td>\n",
       "      <td>21:00:00</td>\n",
       "      <td>I-090-10</td>\n",
       "      <td>47.580522</td>\n",
       "      <td>-122.170289</td>\n",
       "      <td>King County</td>\n",
       "      <td>29.0</td>\n",
       "      <td>black</td>\n",
       "      <td>male</td>\n",
       "      <td>...</td>\n",
       "      <td>False</td>\n",
       "      <td>False</td>\n",
       "      <td>NaN</td>\n",
       "      <td>WHITE</td>\n",
       "      <td>-</td>\n",
       "      <td>--</td>\n",
       "      <td>African American</td>\n",
       "      <td>M</td>\n",
       "      <td>N</td>\n",
       "      <td>-|-</td>\n",
       "    </tr>\n",
       "    <tr>\n",
       "      <th>2</th>\n",
       "      <td>3</td>\n",
       "      <td>2009-10-04</td>\n",
       "      <td>03:00:00</td>\n",
       "      <td>I-090-72</td>\n",
       "      <td>47.250003</td>\n",
       "      <td>-121.189883</td>\n",
       "      <td>Kittitas County</td>\n",
       "      <td>25.0</td>\n",
       "      <td>white</td>\n",
       "      <td>male</td>\n",
       "      <td>...</td>\n",
       "      <td>False</td>\n",
       "      <td>False</td>\n",
       "      <td>NaN</td>\n",
       "      <td>WHITE</td>\n",
       "      <td>-</td>\n",
       "      <td>--</td>\n",
       "      <td>White</td>\n",
       "      <td>M</td>\n",
       "      <td>N</td>\n",
       "      <td>NaN</td>\n",
       "    </tr>\n",
       "    <tr>\n",
       "      <th>3</th>\n",
       "      <td>4</td>\n",
       "      <td>2009-10-04</td>\n",
       "      <td>13:00:00</td>\n",
       "      <td>S-014-3</td>\n",
       "      <td>45.615344</td>\n",
       "      <td>-122.612893</td>\n",
       "      <td>Clark County</td>\n",
       "      <td>19.0</td>\n",
       "      <td>white</td>\n",
       "      <td>female</td>\n",
       "      <td>...</td>\n",
       "      <td>False</td>\n",
       "      <td>False</td>\n",
       "      <td>NaN</td>\n",
       "      <td>WHITE</td>\n",
       "      <td>-</td>\n",
       "      <td>--</td>\n",
       "      <td>White</td>\n",
       "      <td>F</td>\n",
       "      <td>N</td>\n",
       "      <td>-|-|-|-|-|-</td>\n",
       "    </tr>\n",
       "    <tr>\n",
       "      <th>4</th>\n",
       "      <td>5</td>\n",
       "      <td>2009-10-11</td>\n",
       "      <td>08:00:00</td>\n",
       "      <td>S-003-40</td>\n",
       "      <td>47.590284</td>\n",
       "      <td>-122.698671</td>\n",
       "      <td>Kitsap County</td>\n",
       "      <td>25.0</td>\n",
       "      <td>white</td>\n",
       "      <td>male</td>\n",
       "      <td>...</td>\n",
       "      <td>False</td>\n",
       "      <td>False</td>\n",
       "      <td>NaN</td>\n",
       "      <td>WHITE</td>\n",
       "      <td>-</td>\n",
       "      <td>--</td>\n",
       "      <td>White</td>\n",
       "      <td>M</td>\n",
       "      <td>N</td>\n",
       "      <td>-|-</td>\n",
       "    </tr>\n",
       "  </tbody>\n",
       "</table>\n",
       "<p>5 rows × 30 columns</p>\n",
       "</div>"
      ],
      "text/plain": [
       "   raw_row_number        date      time   location        lat         lng  \\\n",
       "0               1  2009-10-27  11:00:00  S-012-344  46.114221 -118.224510   \n",
       "1               2  2009-10-04  21:00:00   I-090-10  47.580522 -122.170289   \n",
       "2               3  2009-10-04  03:00:00   I-090-72  47.250003 -121.189883   \n",
       "3               4  2009-10-04  13:00:00    S-014-3  45.615344 -122.612893   \n",
       "4               5  2009-10-11  08:00:00   S-003-40  47.590284 -122.698671   \n",
       "\n",
       "          county_name  subject_age subject_race subject_sex  ...  \\\n",
       "0  Walla Walla County         30.0        white        male  ...   \n",
       "1         King County         29.0        black        male  ...   \n",
       "2     Kittitas County         25.0        white        male  ...   \n",
       "3        Clark County         19.0        white      female  ...   \n",
       "4       Kitsap County         25.0        white        male  ...   \n",
       "\n",
       "  frisk_performed search_conducted search_basis raw_officer_race  \\\n",
       "0           False            False          NaN            WHITE   \n",
       "1           False            False          NaN            WHITE   \n",
       "2           False            False          NaN            WHITE   \n",
       "3           False            False          NaN            WHITE   \n",
       "4           False            False          NaN            WHITE   \n",
       "\n",
       "  raw_officer_gender raw_contact_type   raw_driver_race  raw_driver_gender  \\\n",
       "0                  -               --             White                  M   \n",
       "1                  -               --  African American                  M   \n",
       "2                  -               --             White                  M   \n",
       "3                  -               --             White                  F   \n",
       "4                  -               --             White                  M   \n",
       "\n",
       "  raw_search_type raw_enforcements  \n",
       "0               N            -|-|-  \n",
       "1               N              -|-  \n",
       "2               N              NaN  \n",
       "3               N      -|-|-|-|-|-  \n",
       "4               N              -|-  \n",
       "\n",
       "[5 rows x 30 columns]"
      ]
     },
     "execution_count": 34,
     "metadata": {},
     "output_type": "execute_result"
    }
   ],
   "source": [
    "wa.head()"
   ]
  },
  {
   "cell_type": "markdown",
   "metadata": {},
   "source": [
    "Before continuing we quickly check the diferent data types for each column that we have in our main dataframe."
   ]
  },
  {
   "cell_type": "code",
   "execution_count": 35,
   "metadata": {},
   "outputs": [
    {
     "data": {
      "text/plain": [
       "raw_row_number          int64\n",
       "date                   object\n",
       "time                   object\n",
       "location               object\n",
       "lat                   float64\n",
       "lng                   float64\n",
       "county_name            object\n",
       "subject_age           float64\n",
       "subject_race           object\n",
       "subject_sex            object\n",
       "officer_race           object\n",
       "officer_sex            object\n",
       "department_name        object\n",
       "type                   object\n",
       "violation              object\n",
       "arrest_made            object\n",
       "citation_issued          bool\n",
       "warning_issued           bool\n",
       "outcome                object\n",
       "contraband_found       object\n",
       "frisk_performed          bool\n",
       "search_conducted         bool\n",
       "search_basis           object\n",
       "raw_officer_race       object\n",
       "raw_officer_gender     object\n",
       "raw_contact_type       object\n",
       "raw_driver_race        object\n",
       "raw_driver_gender      object\n",
       "raw_search_type        object\n",
       "raw_enforcements       object\n",
       "dtype: object"
      ]
     },
     "execution_count": 35,
     "metadata": {},
     "output_type": "execute_result"
    }
   ],
   "source": [
    "wa.dtypes"
   ]
  },
  {
   "cell_type": "code",
   "execution_count": 36,
   "metadata": {},
   "outputs": [],
   "source": [
    "#It is important for the followings parts to get the columns of date and time into a datetime type.\n",
    "#There ara many ways to do this tranformation of the data type but we decide to use the pandas function pd.to_datetime:\n",
    "\n",
    "#First for the date column:\n",
    "wa_datetime = pd.to_datetime(wa.date)\n",
    "wa.date = wa_datetime"
   ]
  },
  {
   "cell_type": "markdown",
   "metadata": {},
   "source": [
    "We verify that the transformation ahs worked."
   ]
  },
  {
   "cell_type": "code",
   "execution_count": 37,
   "metadata": {},
   "outputs": [
    {
     "data": {
      "text/html": [
       "<div>\n",
       "<style scoped>\n",
       "    .dataframe tbody tr th:only-of-type {\n",
       "        vertical-align: middle;\n",
       "    }\n",
       "\n",
       "    .dataframe tbody tr th {\n",
       "        vertical-align: top;\n",
       "    }\n",
       "\n",
       "    .dataframe thead th {\n",
       "        text-align: right;\n",
       "    }\n",
       "</style>\n",
       "<table border=\"1\" class=\"dataframe\">\n",
       "  <thead>\n",
       "    <tr style=\"text-align: right;\">\n",
       "      <th></th>\n",
       "      <th>raw_row_number</th>\n",
       "      <th>date</th>\n",
       "      <th>time</th>\n",
       "      <th>location</th>\n",
       "      <th>lat</th>\n",
       "      <th>lng</th>\n",
       "      <th>county_name</th>\n",
       "      <th>subject_age</th>\n",
       "      <th>subject_race</th>\n",
       "      <th>subject_sex</th>\n",
       "      <th>...</th>\n",
       "      <th>frisk_performed</th>\n",
       "      <th>search_conducted</th>\n",
       "      <th>search_basis</th>\n",
       "      <th>raw_officer_race</th>\n",
       "      <th>raw_officer_gender</th>\n",
       "      <th>raw_contact_type</th>\n",
       "      <th>raw_driver_race</th>\n",
       "      <th>raw_driver_gender</th>\n",
       "      <th>raw_search_type</th>\n",
       "      <th>raw_enforcements</th>\n",
       "    </tr>\n",
       "  </thead>\n",
       "  <tbody>\n",
       "    <tr>\n",
       "      <th>0</th>\n",
       "      <td>1</td>\n",
       "      <td>2009-10-27</td>\n",
       "      <td>11:00:00</td>\n",
       "      <td>S-012-344</td>\n",
       "      <td>46.114221</td>\n",
       "      <td>-118.224510</td>\n",
       "      <td>Walla Walla County</td>\n",
       "      <td>30.0</td>\n",
       "      <td>white</td>\n",
       "      <td>male</td>\n",
       "      <td>...</td>\n",
       "      <td>False</td>\n",
       "      <td>False</td>\n",
       "      <td>NaN</td>\n",
       "      <td>WHITE</td>\n",
       "      <td>-</td>\n",
       "      <td>--</td>\n",
       "      <td>White</td>\n",
       "      <td>M</td>\n",
       "      <td>N</td>\n",
       "      <td>-|-|-</td>\n",
       "    </tr>\n",
       "    <tr>\n",
       "      <th>1</th>\n",
       "      <td>2</td>\n",
       "      <td>2009-10-04</td>\n",
       "      <td>21:00:00</td>\n",
       "      <td>I-090-10</td>\n",
       "      <td>47.580522</td>\n",
       "      <td>-122.170289</td>\n",
       "      <td>King County</td>\n",
       "      <td>29.0</td>\n",
       "      <td>black</td>\n",
       "      <td>male</td>\n",
       "      <td>...</td>\n",
       "      <td>False</td>\n",
       "      <td>False</td>\n",
       "      <td>NaN</td>\n",
       "      <td>WHITE</td>\n",
       "      <td>-</td>\n",
       "      <td>--</td>\n",
       "      <td>African American</td>\n",
       "      <td>M</td>\n",
       "      <td>N</td>\n",
       "      <td>-|-</td>\n",
       "    </tr>\n",
       "    <tr>\n",
       "      <th>2</th>\n",
       "      <td>3</td>\n",
       "      <td>2009-10-04</td>\n",
       "      <td>03:00:00</td>\n",
       "      <td>I-090-72</td>\n",
       "      <td>47.250003</td>\n",
       "      <td>-121.189883</td>\n",
       "      <td>Kittitas County</td>\n",
       "      <td>25.0</td>\n",
       "      <td>white</td>\n",
       "      <td>male</td>\n",
       "      <td>...</td>\n",
       "      <td>False</td>\n",
       "      <td>False</td>\n",
       "      <td>NaN</td>\n",
       "      <td>WHITE</td>\n",
       "      <td>-</td>\n",
       "      <td>--</td>\n",
       "      <td>White</td>\n",
       "      <td>M</td>\n",
       "      <td>N</td>\n",
       "      <td>NaN</td>\n",
       "    </tr>\n",
       "    <tr>\n",
       "      <th>3</th>\n",
       "      <td>4</td>\n",
       "      <td>2009-10-04</td>\n",
       "      <td>13:00:00</td>\n",
       "      <td>S-014-3</td>\n",
       "      <td>45.615344</td>\n",
       "      <td>-122.612893</td>\n",
       "      <td>Clark County</td>\n",
       "      <td>19.0</td>\n",
       "      <td>white</td>\n",
       "      <td>female</td>\n",
       "      <td>...</td>\n",
       "      <td>False</td>\n",
       "      <td>False</td>\n",
       "      <td>NaN</td>\n",
       "      <td>WHITE</td>\n",
       "      <td>-</td>\n",
       "      <td>--</td>\n",
       "      <td>White</td>\n",
       "      <td>F</td>\n",
       "      <td>N</td>\n",
       "      <td>-|-|-|-|-|-</td>\n",
       "    </tr>\n",
       "    <tr>\n",
       "      <th>4</th>\n",
       "      <td>5</td>\n",
       "      <td>2009-10-11</td>\n",
       "      <td>08:00:00</td>\n",
       "      <td>S-003-40</td>\n",
       "      <td>47.590284</td>\n",
       "      <td>-122.698671</td>\n",
       "      <td>Kitsap County</td>\n",
       "      <td>25.0</td>\n",
       "      <td>white</td>\n",
       "      <td>male</td>\n",
       "      <td>...</td>\n",
       "      <td>False</td>\n",
       "      <td>False</td>\n",
       "      <td>NaN</td>\n",
       "      <td>WHITE</td>\n",
       "      <td>-</td>\n",
       "      <td>--</td>\n",
       "      <td>White</td>\n",
       "      <td>M</td>\n",
       "      <td>N</td>\n",
       "      <td>-|-</td>\n",
       "    </tr>\n",
       "  </tbody>\n",
       "</table>\n",
       "<p>5 rows × 30 columns</p>\n",
       "</div>"
      ],
      "text/plain": [
       "   raw_row_number       date      time   location        lat         lng  \\\n",
       "0               1 2009-10-27  11:00:00  S-012-344  46.114221 -118.224510   \n",
       "1               2 2009-10-04  21:00:00   I-090-10  47.580522 -122.170289   \n",
       "2               3 2009-10-04  03:00:00   I-090-72  47.250003 -121.189883   \n",
       "3               4 2009-10-04  13:00:00    S-014-3  45.615344 -122.612893   \n",
       "4               5 2009-10-11  08:00:00   S-003-40  47.590284 -122.698671   \n",
       "\n",
       "          county_name  subject_age subject_race subject_sex  ...  \\\n",
       "0  Walla Walla County         30.0        white        male  ...   \n",
       "1         King County         29.0        black        male  ...   \n",
       "2     Kittitas County         25.0        white        male  ...   \n",
       "3        Clark County         19.0        white      female  ...   \n",
       "4       Kitsap County         25.0        white        male  ...   \n",
       "\n",
       "  frisk_performed search_conducted search_basis raw_officer_race  \\\n",
       "0           False            False          NaN            WHITE   \n",
       "1           False            False          NaN            WHITE   \n",
       "2           False            False          NaN            WHITE   \n",
       "3           False            False          NaN            WHITE   \n",
       "4           False            False          NaN            WHITE   \n",
       "\n",
       "  raw_officer_gender raw_contact_type   raw_driver_race  raw_driver_gender  \\\n",
       "0                  -               --             White                  M   \n",
       "1                  -               --  African American                  M   \n",
       "2                  -               --             White                  M   \n",
       "3                  -               --             White                  F   \n",
       "4                  -               --             White                  M   \n",
       "\n",
       "  raw_search_type raw_enforcements  \n",
       "0               N            -|-|-  \n",
       "1               N              -|-  \n",
       "2               N              NaN  \n",
       "3               N      -|-|-|-|-|-  \n",
       "4               N              -|-  \n",
       "\n",
       "[5 rows x 30 columns]"
      ]
     },
     "execution_count": 37,
     "metadata": {},
     "output_type": "execute_result"
    }
   ],
   "source": [
    "wa.head()"
   ]
  },
  {
   "cell_type": "code",
   "execution_count": 38,
   "metadata": {},
   "outputs": [
    {
     "data": {
      "text/plain": [
       "raw_row_number                 int64\n",
       "date                  datetime64[ns]\n",
       "time                          object\n",
       "location                      object\n",
       "lat                          float64\n",
       "lng                          float64\n",
       "county_name                   object\n",
       "subject_age                  float64\n",
       "subject_race                  object\n",
       "subject_sex                   object\n",
       "officer_race                  object\n",
       "officer_sex                   object\n",
       "department_name               object\n",
       "type                          object\n",
       "violation                     object\n",
       "arrest_made                   object\n",
       "citation_issued                 bool\n",
       "warning_issued                  bool\n",
       "outcome                       object\n",
       "contraband_found              object\n",
       "frisk_performed                 bool\n",
       "search_conducted                bool\n",
       "search_basis                  object\n",
       "raw_officer_race              object\n",
       "raw_officer_gender            object\n",
       "raw_contact_type              object\n",
       "raw_driver_race               object\n",
       "raw_driver_gender             object\n",
       "raw_search_type               object\n",
       "raw_enforcements              object\n",
       "dtype: object"
      ]
     },
     "execution_count": 38,
     "metadata": {},
     "output_type": "execute_result"
    }
   ],
   "source": [
    "wa.dtypes"
   ]
  },
  {
   "cell_type": "markdown",
   "metadata": {},
   "source": [
    "In our analysis we want to take into acount the effect of legalization so we want to add a column that contains the boolean information on this aspect."
   ]
  },
  {
   "cell_type": "code",
   "execution_count": 39,
   "metadata": {},
   "outputs": [
    {
     "data": {
      "text/plain": [
       "Timestamp('2012-12-06 00:00:00')"
      ]
     },
     "execution_count": 39,
     "metadata": {},
     "output_type": "execute_result"
    }
   ],
   "source": [
    "#Creating a variable with this information to compare after with our dataframe values.\n",
    "a = '2012-12-06'\n",
    "a_datetime = pd.to_datetime(a)\n",
    "a = a_datetime\n",
    "a"
   ]
  },
  {
   "cell_type": "markdown",
   "metadata": {},
   "source": [
    "To create this new column we will use the tool date.toordinal because is easier for python  works with this type of data and also is easier to make comparation. We will pass to this new format the date column creating a new column with a new name date_ordinal. Also we will do the same with the date that marijuana becomes legal in Washignton as we will use this date to make an analysis and create new columns with useful information for the final model."
   ]
  },
  {
   "cell_type": "code",
   "execution_count": 40,
   "metadata": {},
   "outputs": [],
   "source": [
    "#Creating the new column with the date_ordinal format:\n",
    "wa['date_ordinal'] = wa['date'].apply(lambda date: date.toordinal())\n",
    "\n",
    "#Convert the date of marijuana legalization in a date_odinal format:\n",
    "a_ordinal = a.toordinal()"
   ]
  },
  {
   "cell_type": "markdown",
   "metadata": {},
   "source": [
    "We have to check if we get the format that we want."
   ]
  },
  {
   "cell_type": "code",
   "execution_count": 41,
   "metadata": {},
   "outputs": [
    {
     "data": {
      "text/plain": [
       "0    733707\n",
       "1    733684\n",
       "2    733684\n",
       "3    733684\n",
       "4    733691\n",
       "Name: date_ordinal, dtype: int64"
      ]
     },
     "execution_count": 41,
     "metadata": {},
     "output_type": "execute_result"
    }
   ],
   "source": [
    "wa.date_ordinal.head()"
   ]
  },
  {
   "cell_type": "code",
   "execution_count": 42,
   "metadata": {},
   "outputs": [
    {
     "data": {
      "text/plain": [
       "734843"
      ]
     },
     "execution_count": 42,
     "metadata": {},
     "output_type": "execute_result"
    }
   ],
   "source": [
    "a_ordinal"
   ]
  },
  {
   "cell_type": "markdown",
   "metadata": {},
   "source": [
    "As we can see we get the values in a more manageable format to make operations. We will create the column of pre_legalization."
   ]
  },
  {
   "cell_type": "code",
   "execution_count": 43,
   "metadata": {},
   "outputs": [
    {
     "data": {
      "text/plain": [
       "0            True\n",
       "1            True\n",
       "2            True\n",
       "3            True\n",
       "4            True\n",
       "            ...  \n",
       "11333420    False\n",
       "11333421    False\n",
       "11333422    False\n",
       "11333423    False\n",
       "11333424    False\n",
       "Name: pre_legalization, Length: 11333425, dtype: bool"
      ]
     },
     "execution_count": 43,
     "metadata": {},
     "output_type": "execute_result"
    }
   ],
   "source": [
    "wa['pre_legalization'] = wa.date_ordinal.apply(lambda x: x < a_ordinal)\n",
    "wa.pre_legalization"
   ]
  },
  {
   "cell_type": "markdown",
   "metadata": {},
   "source": [
    "As we can see we get this new column that we will use later, but the next step is to calculate the time in years after legalitzation for each stop that happens in this period. For the other values that we will obtain during the period before legalitzation we will put a 0 value to represent this fact."
   ]
  },
  {
   "cell_type": "code",
   "execution_count": 44,
   "metadata": {},
   "outputs": [
    {
     "data": {
      "text/plain": [
       "0          -3.112329\n",
       "1          -3.175342\n",
       "2          -3.175342\n",
       "3          -3.175342\n",
       "4          -3.156164\n",
       "              ...   \n",
       "11333420    5.794521\n",
       "11333421    5.805479\n",
       "11333422    5.808219\n",
       "11333423    5.808219\n",
       "11333424    5.808219\n",
       "Name: years_after_legalization, Length: 11333425, dtype: float64"
      ]
     },
     "execution_count": 44,
     "metadata": {},
     "output_type": "execute_result"
    }
   ],
   "source": [
    "#We will call this column like years_after_legalization:\n",
    "wa['years_after_legalization'] = (wa['date_ordinal']-a_ordinal)/365\n",
    "wa.years_after_legalization"
   ]
  },
  {
   "cell_type": "markdown",
   "metadata": {},
   "source": [
    "Now we have to put in a better way, where all the values under 0 will be zero to get a more clean column."
   ]
  },
  {
   "cell_type": "code",
   "execution_count": 45,
   "metadata": {},
   "outputs": [],
   "source": [
    "wa['years_after_legalization'] = wa['years_after_legalization'].clip(lower = 0)"
   ]
  },
  {
   "cell_type": "markdown",
   "metadata": {},
   "source": [
    "Finally, the last step in this section will be to see if the columns with the expected values have been obtained."
   ]
  },
  {
   "cell_type": "code",
   "execution_count": 46,
   "metadata": {},
   "outputs": [],
   "source": [
    "#wa"
   ]
  },
  {
   "cell_type": "markdown",
   "metadata": {},
   "source": [
    "We can show that the columns obtained are in a correct way like we expected and rigth now we are able to begin with the analysis."
   ]
  },
  {
   "cell_type": "markdown",
   "metadata": {},
   "source": [
    "### **Step 2**: Statistics\n",
    "\n",
    "We will now perform a decision tree analysis of our data. This is convenient because we have both categorical and numerical variables as inputs, and because the decision tree will ultimately return the factors which are more important to determine if a subject will be searched or not.\n",
    "\n",
    "We could have used a random forest analysis for better precision, but we found the decision tree analysis to be more convenient. The main reason is that decision trees are easy to represent, and are white box models, whereas random forests are more accurate but they are black box models, harder to represent, and impossible to run by hand.\n",
    "\n",
    "We will use sklearn to do this\n",
    "\n",
    "The first thing we will need to do is to split our data into a training and testing set.\n",
    "\n",
    "This is extremely important to prevent overfitting, which is the main risk of a decision tree analysis (most of the work we will do to prevent this will be afterwards on hyperparameter tuning)\n",
    "\n",
    "We will divide our data into 3 sets :\n",
    "A training set to train our decision tree classifier\n",
    "A validation set to tune our hyperparameters\n",
    "A testing set to check our results on \"never seen before\" data\n",
    "\n",
    "Since the dataset is so big, we will only use 10% of it as testing and 10% of it as validation.\n",
    "\n",
    "First we will reduce our dataset to only the interest parameters, while also dropping rows with incomplete values"
   ]
  },
  {
   "cell_type": "code",
   "execution_count": 47,
   "metadata": {},
   "outputs": [
    {
     "data": {
      "text/html": [
       "<div>\n",
       "<style scoped>\n",
       "    .dataframe tbody tr th:only-of-type {\n",
       "        vertical-align: middle;\n",
       "    }\n",
       "\n",
       "    .dataframe tbody tr th {\n",
       "        vertical-align: top;\n",
       "    }\n",
       "\n",
       "    .dataframe thead th {\n",
       "        text-align: right;\n",
       "    }\n",
       "</style>\n",
       "<table border=\"1\" class=\"dataframe\">\n",
       "  <thead>\n",
       "    <tr style=\"text-align: right;\">\n",
       "      <th></th>\n",
       "      <th>subject_age</th>\n",
       "      <th>subject_race</th>\n",
       "      <th>subject_sex</th>\n",
       "      <th>pre_legalization</th>\n",
       "      <th>years_after_legalization</th>\n",
       "      <th>search_conducted</th>\n",
       "    </tr>\n",
       "  </thead>\n",
       "  <tbody>\n",
       "    <tr>\n",
       "      <th>0</th>\n",
       "      <td>30.0</td>\n",
       "      <td>white</td>\n",
       "      <td>male</td>\n",
       "      <td>True</td>\n",
       "      <td>0.000000</td>\n",
       "      <td>False</td>\n",
       "    </tr>\n",
       "    <tr>\n",
       "      <th>1</th>\n",
       "      <td>29.0</td>\n",
       "      <td>black</td>\n",
       "      <td>male</td>\n",
       "      <td>True</td>\n",
       "      <td>0.000000</td>\n",
       "      <td>False</td>\n",
       "    </tr>\n",
       "    <tr>\n",
       "      <th>2</th>\n",
       "      <td>25.0</td>\n",
       "      <td>white</td>\n",
       "      <td>male</td>\n",
       "      <td>True</td>\n",
       "      <td>0.000000</td>\n",
       "      <td>False</td>\n",
       "    </tr>\n",
       "    <tr>\n",
       "      <th>3</th>\n",
       "      <td>19.0</td>\n",
       "      <td>white</td>\n",
       "      <td>female</td>\n",
       "      <td>True</td>\n",
       "      <td>0.000000</td>\n",
       "      <td>False</td>\n",
       "    </tr>\n",
       "    <tr>\n",
       "      <th>4</th>\n",
       "      <td>25.0</td>\n",
       "      <td>white</td>\n",
       "      <td>male</td>\n",
       "      <td>True</td>\n",
       "      <td>0.000000</td>\n",
       "      <td>False</td>\n",
       "    </tr>\n",
       "    <tr>\n",
       "      <th>...</th>\n",
       "      <td>...</td>\n",
       "      <td>...</td>\n",
       "      <td>...</td>\n",
       "      <td>...</td>\n",
       "      <td>...</td>\n",
       "      <td>...</td>\n",
       "    </tr>\n",
       "    <tr>\n",
       "      <th>11333390</th>\n",
       "      <td>55.0</td>\n",
       "      <td>white</td>\n",
       "      <td>male</td>\n",
       "      <td>False</td>\n",
       "      <td>5.783562</td>\n",
       "      <td>False</td>\n",
       "    </tr>\n",
       "    <tr>\n",
       "      <th>11333391</th>\n",
       "      <td>44.0</td>\n",
       "      <td>white</td>\n",
       "      <td>female</td>\n",
       "      <td>False</td>\n",
       "      <td>5.797260</td>\n",
       "      <td>False</td>\n",
       "    </tr>\n",
       "    <tr>\n",
       "      <th>11333392</th>\n",
       "      <td>28.0</td>\n",
       "      <td>asian/pacific islander</td>\n",
       "      <td>female</td>\n",
       "      <td>False</td>\n",
       "      <td>5.800000</td>\n",
       "      <td>False</td>\n",
       "    </tr>\n",
       "    <tr>\n",
       "      <th>11333393</th>\n",
       "      <td>35.0</td>\n",
       "      <td>hispanic</td>\n",
       "      <td>male</td>\n",
       "      <td>False</td>\n",
       "      <td>5.800000</td>\n",
       "      <td>False</td>\n",
       "    </tr>\n",
       "    <tr>\n",
       "      <th>11333395</th>\n",
       "      <td>60.0</td>\n",
       "      <td>white</td>\n",
       "      <td>male</td>\n",
       "      <td>False</td>\n",
       "      <td>5.802740</td>\n",
       "      <td>False</td>\n",
       "    </tr>\n",
       "  </tbody>\n",
       "</table>\n",
       "<p>8113590 rows × 6 columns</p>\n",
       "</div>"
      ],
      "text/plain": [
       "          subject_age            subject_race subject_sex  pre_legalization  \\\n",
       "0                30.0                   white        male              True   \n",
       "1                29.0                   black        male              True   \n",
       "2                25.0                   white        male              True   \n",
       "3                19.0                   white      female              True   \n",
       "4                25.0                   white        male              True   \n",
       "...               ...                     ...         ...               ...   \n",
       "11333390         55.0                   white        male             False   \n",
       "11333391         44.0                   white      female             False   \n",
       "11333392         28.0  asian/pacific islander      female             False   \n",
       "11333393         35.0                hispanic        male             False   \n",
       "11333395         60.0                   white        male             False   \n",
       "\n",
       "          years_after_legalization  search_conducted  \n",
       "0                         0.000000             False  \n",
       "1                         0.000000             False  \n",
       "2                         0.000000             False  \n",
       "3                         0.000000             False  \n",
       "4                         0.000000             False  \n",
       "...                            ...               ...  \n",
       "11333390                  5.783562             False  \n",
       "11333391                  5.797260             False  \n",
       "11333392                  5.800000             False  \n",
       "11333393                  5.800000             False  \n",
       "11333395                  5.802740             False  \n",
       "\n",
       "[8113590 rows x 6 columns]"
      ]
     },
     "execution_count": 47,
     "metadata": {},
     "output_type": "execute_result"
    }
   ],
   "source": [
    "wa_reduced = wa[['subject_age','subject_race','subject_sex','pre_legalization','years_after_legalization','search_conducted']]\n",
    "wa_reduced = wa_reduced.dropna()\n",
    "wa_reduced"
   ]
  },
  {
   "cell_type": "markdown",
   "metadata": {},
   "source": [
    "We also want to drop all races that are not white, hispanic, or black\n",
    "Also all sexes that are not male or female (I did not notice any, but this is just a precaution)\n",
    "This is for simplification purposes, and also to fit the study results as well as possible "
   ]
  },
  {
   "cell_type": "code",
   "execution_count": 48,
   "metadata": {},
   "outputs": [],
   "source": [
    "wa_reduced = wa_reduced[wa_reduced['subject_race'].isin(['black','hispanic','white'])]\n",
    "wa_reduced = wa_reduced[wa_reduced['subject_sex'].isin(['male','female'])]"
   ]
  },
  {
   "cell_type": "markdown",
   "metadata": {},
   "source": [
    "Unfortunately, sklearn does not handle categorical values for decision trees.\n",
    "\n",
    "Hence, we have to use label encoding to switch categorical values into numerical values.\n",
    "We will also turn our pre_legalization and search_conducted values to binary"
   ]
  },
  {
   "cell_type": "code",
   "execution_count": 49,
   "metadata": {},
   "outputs": [
    {
     "data": {
      "text/html": [
       "<div>\n",
       "<style scoped>\n",
       "    .dataframe tbody tr th:only-of-type {\n",
       "        vertical-align: middle;\n",
       "    }\n",
       "\n",
       "    .dataframe tbody tr th {\n",
       "        vertical-align: top;\n",
       "    }\n",
       "\n",
       "    .dataframe thead th {\n",
       "        text-align: right;\n",
       "    }\n",
       "</style>\n",
       "<table border=\"1\" class=\"dataframe\">\n",
       "  <thead>\n",
       "    <tr style=\"text-align: right;\">\n",
       "      <th></th>\n",
       "      <th>subject_age</th>\n",
       "      <th>subject_race</th>\n",
       "      <th>subject_sex</th>\n",
       "      <th>pre_legalization</th>\n",
       "      <th>years_after_legalization</th>\n",
       "      <th>search_conducted</th>\n",
       "    </tr>\n",
       "  </thead>\n",
       "  <tbody>\n",
       "    <tr>\n",
       "      <th>0</th>\n",
       "      <td>30.0</td>\n",
       "      <td>2</td>\n",
       "      <td>1</td>\n",
       "      <td>1</td>\n",
       "      <td>0.000000</td>\n",
       "      <td>0</td>\n",
       "    </tr>\n",
       "    <tr>\n",
       "      <th>1</th>\n",
       "      <td>29.0</td>\n",
       "      <td>0</td>\n",
       "      <td>1</td>\n",
       "      <td>1</td>\n",
       "      <td>0.000000</td>\n",
       "      <td>0</td>\n",
       "    </tr>\n",
       "    <tr>\n",
       "      <th>2</th>\n",
       "      <td>25.0</td>\n",
       "      <td>2</td>\n",
       "      <td>1</td>\n",
       "      <td>1</td>\n",
       "      <td>0.000000</td>\n",
       "      <td>0</td>\n",
       "    </tr>\n",
       "    <tr>\n",
       "      <th>3</th>\n",
       "      <td>19.0</td>\n",
       "      <td>2</td>\n",
       "      <td>0</td>\n",
       "      <td>1</td>\n",
       "      <td>0.000000</td>\n",
       "      <td>0</td>\n",
       "    </tr>\n",
       "    <tr>\n",
       "      <th>4</th>\n",
       "      <td>25.0</td>\n",
       "      <td>2</td>\n",
       "      <td>1</td>\n",
       "      <td>1</td>\n",
       "      <td>0.000000</td>\n",
       "      <td>0</td>\n",
       "    </tr>\n",
       "    <tr>\n",
       "      <th>...</th>\n",
       "      <td>...</td>\n",
       "      <td>...</td>\n",
       "      <td>...</td>\n",
       "      <td>...</td>\n",
       "      <td>...</td>\n",
       "      <td>...</td>\n",
       "    </tr>\n",
       "    <tr>\n",
       "      <th>11333389</th>\n",
       "      <td>57.0</td>\n",
       "      <td>2</td>\n",
       "      <td>1</td>\n",
       "      <td>0</td>\n",
       "      <td>5.783562</td>\n",
       "      <td>0</td>\n",
       "    </tr>\n",
       "    <tr>\n",
       "      <th>11333390</th>\n",
       "      <td>55.0</td>\n",
       "      <td>2</td>\n",
       "      <td>1</td>\n",
       "      <td>0</td>\n",
       "      <td>5.783562</td>\n",
       "      <td>0</td>\n",
       "    </tr>\n",
       "    <tr>\n",
       "      <th>11333391</th>\n",
       "      <td>44.0</td>\n",
       "      <td>2</td>\n",
       "      <td>0</td>\n",
       "      <td>0</td>\n",
       "      <td>5.797260</td>\n",
       "      <td>0</td>\n",
       "    </tr>\n",
       "    <tr>\n",
       "      <th>11333393</th>\n",
       "      <td>35.0</td>\n",
       "      <td>1</td>\n",
       "      <td>1</td>\n",
       "      <td>0</td>\n",
       "      <td>5.800000</td>\n",
       "      <td>0</td>\n",
       "    </tr>\n",
       "    <tr>\n",
       "      <th>11333395</th>\n",
       "      <td>60.0</td>\n",
       "      <td>2</td>\n",
       "      <td>1</td>\n",
       "      <td>0</td>\n",
       "      <td>5.802740</td>\n",
       "      <td>0</td>\n",
       "    </tr>\n",
       "  </tbody>\n",
       "</table>\n",
       "<p>7461502 rows × 6 columns</p>\n",
       "</div>"
      ],
      "text/plain": [
       "          subject_age  subject_race  subject_sex  pre_legalization  \\\n",
       "0                30.0             2            1                 1   \n",
       "1                29.0             0            1                 1   \n",
       "2                25.0             2            1                 1   \n",
       "3                19.0             2            0                 1   \n",
       "4                25.0             2            1                 1   \n",
       "...               ...           ...          ...               ...   \n",
       "11333389         57.0             2            1                 0   \n",
       "11333390         55.0             2            1                 0   \n",
       "11333391         44.0             2            0                 0   \n",
       "11333393         35.0             1            1                 0   \n",
       "11333395         60.0             2            1                 0   \n",
       "\n",
       "          years_after_legalization  search_conducted  \n",
       "0                         0.000000                 0  \n",
       "1                         0.000000                 0  \n",
       "2                         0.000000                 0  \n",
       "3                         0.000000                 0  \n",
       "4                         0.000000                 0  \n",
       "...                            ...               ...  \n",
       "11333389                  5.783562                 0  \n",
       "11333390                  5.783562                 0  \n",
       "11333391                  5.797260                 0  \n",
       "11333393                  5.800000                 0  \n",
       "11333395                  5.802740                 0  \n",
       "\n",
       "[7461502 rows x 6 columns]"
      ]
     },
     "execution_count": 49,
     "metadata": {},
     "output_type": "execute_result"
    }
   ],
   "source": [
    "LE_race = preprocessing.LabelEncoder()\n",
    "LE_sex = preprocessing.LabelEncoder()\n",
    "\n",
    "wa_reduced['subject_race'] = LE_race.fit_transform(wa_reduced['subject_race'])\n",
    "wa_reduced['subject_sex'] = LE_sex.fit_transform(wa_reduced['subject_sex'])\n",
    "\n",
    "wa_reduced['pre_legalization'] =  wa['pre_legalization'].astype(int)\n",
    "wa_reduced['search_conducted'] = wa['search_conducted'].astype(int)\n",
    "\n",
    "wa_reduced"
   ]
  },
  {
   "cell_type": "markdown",
   "metadata": {},
   "source": [
    "Hence : \n",
    "\n",
    "**race** : black = 0, white = 2, hispanic = 1\n",
    "\n",
    "**sex** : female = 0, male = 1\n",
    "\n",
    "We will be able to get back the original results by using the inverse_transform method"
   ]
  },
  {
   "cell_type": "markdown",
   "metadata": {},
   "source": [
    "Before we perform the split between training, testing and validation sets, we can just check the global proportion of searches."
   ]
  },
  {
   "cell_type": "code",
   "execution_count": 50,
   "metadata": {},
   "outputs": [
    {
     "name": "stdout",
     "output_type": "stream",
     "text": [
      "0.029558927947751\n"
     ]
    }
   ],
   "source": [
    "A = wa_reduced[wa_reduced['search_conducted'] == True].shape[0]\n",
    "B = wa_reduced.shape[0]\n",
    "print(A/B)"
   ]
  },
  {
   "cell_type": "markdown",
   "metadata": {},
   "source": [
    "We can see that only around 3% of drivers are searched. Our dataset is extremely imbalanced and thus we need to be extremely careful when fitting models. From now everytime we talk about a positive we refer to a search."
   ]
  },
  {
   "cell_type": "markdown",
   "metadata": {},
   "source": [
    "We can now perform our split, but also scale all values in order to handle them more effectively"
   ]
  },
  {
   "cell_type": "code",
   "execution_count": 51,
   "metadata": {},
   "outputs": [],
   "source": [
    "\n",
    "X = wa_reduced[['subject_age','subject_race','subject_sex','pre_legalization','years_after_legalization']].values\n",
    "Y = wa_reduced[['search_conducted']].values\n",
    "\n",
    "X_scale = preprocessing.scale(X)\n",
    "\n",
    "X_train, X_test, Y_train, Y_test = train_test_split(X_scale,Y,test_size = 0.2) #training set : 80% of samples\n",
    "X_test, X_val, Y_test, Y_val = train_test_split(X_test, Y_test, test_size = 0.5) #10% testing 10% validation"
   ]
  },
  {
   "cell_type": "markdown",
   "metadata": {},
   "source": [
    "\n",
    "Now we will define our decision tree.\n",
    "\n",
    "Most parameters (min_samples_leaf, min_samples_split) are not really important based on the number of samples\n",
    "\n",
    "However, the ones that will really be important for our model are the max_tree_depth, criterion and splitter \n",
    "\n",
    "max_tree_depth is especially important because it will ultimately be this parameter that determines which factors are important to evaluate if a subject will be searched"
   ]
  },
  {
   "cell_type": "markdown",
   "metadata": {},
   "source": [
    "First, we will evaluate the tree with only 3 levels.\n",
    "\n",
    "We will perform the same fit, but with other methods in order to ensure that our results are coherent.\n",
    "\n",
    "We will evaluate them based on accuracy, precision (fraction of our predicted positives that are true positives) and recall (fraction of all actual positives that are true positives).\n",
    "\n",
    "Just as another check, we will calculate these indicators on the training set. This is only to ensure that nothing went wrong, since during testing I ended up with an accuracy of 0 on the training set, which indicated an error in my code."
   ]
  },
  {
   "cell_type": "code",
   "execution_count": 52,
   "metadata": {},
   "outputs": [
    {
     "data": {
      "text/plain": [
       "DecisionTreeClassifier(max_depth=3)"
      ]
     },
     "execution_count": 52,
     "metadata": {},
     "output_type": "execute_result"
    }
   ],
   "source": [
    "WA_tree_example = DecisionTreeClassifier()\n",
    "WA_tree_example.set_params(max_depth = 3)\n",
    "WA_tree_example.fit(X_train,Y_train)"
   ]
  },
  {
   "cell_type": "code",
   "execution_count": 53,
   "metadata": {},
   "outputs": [
    {
     "name": "stdout",
     "output_type": "stream",
     "text": [
      "Accuracy on training set: 0.970\n",
      "Precision on training set: 0.485\n",
      "Recall on training set: 0.500\n"
     ]
    }
   ],
   "source": [
    "print(\"Accuracy on training set: {:.3f}\".format(WA_tree_example.score(X_train,Y_train)))\n",
    "print(\"Precision on training set: {:.3f}\".format(precision_score(Y_train,WA_tree_example.predict(X_train), average = 'macro')))\n",
    "print(\"Recall on training set: {:.3f}\".format(recall_score(Y_train,WA_tree_example.predict(X_train), average = 'macro')))"
   ]
  },
  {
   "cell_type": "code",
   "execution_count": 54,
   "metadata": {},
   "outputs": [
    {
     "name": "stdout",
     "output_type": "stream",
     "text": [
      "Accuracy on testing set: 0.971\n",
      "Precision on testing set: 0.485\n",
      "Recall on testing set: 0.500\n"
     ]
    }
   ],
   "source": [
    "print(\"Accuracy on testing set: {:.3f}\".format(WA_tree_example.score(X_test,Y_test)))\n",
    "print(\"Precision on testing set: {:.3f}\".format(precision_score(Y_test,WA_tree_example.predict(X_test), average = 'macro')))\n",
    "print(\"Recall on testing set: {:.3f}\".format(recall_score(Y_test,WA_tree_example.predict(X_test), average = 'macro')))"
   ]
  },
  {
   "cell_type": "code",
   "execution_count": 55,
   "metadata": {},
   "outputs": [
    {
     "data": {
      "text/plain": [
       "LogisticRegression()"
      ]
     },
     "execution_count": 55,
     "metadata": {},
     "output_type": "execute_result"
    }
   ],
   "source": [
    "WA_tree_example = LogisticRegression()\n",
    "WA_tree_example.fit(X_train,Y_train)"
   ]
  },
  {
   "cell_type": "code",
   "execution_count": 56,
   "metadata": {},
   "outputs": [
    {
     "name": "stdout",
     "output_type": "stream",
     "text": [
      "Accuracy on training set: 0.970\n",
      "Precision on training set: 0.485\n",
      "Recall on training set: 0.500\n"
     ]
    }
   ],
   "source": [
    "print(\"Accuracy on training set: {:.3f}\".format(WA_tree_example.score(X_train,Y_train)))\n",
    "print(\"Precision on training set: {:.3f}\".format(precision_score(Y_train,WA_tree_example.predict(X_train), average = 'macro')))\n",
    "print(\"Recall on training set: {:.3f}\".format(recall_score(Y_train,WA_tree_example.predict(X_train), average = 'macro')))"
   ]
  },
  {
   "cell_type": "code",
   "execution_count": 57,
   "metadata": {},
   "outputs": [
    {
     "name": "stdout",
     "output_type": "stream",
     "text": [
      "Accuracy on testing set: 0.971\n",
      "Precision on testing set: 0.485\n",
      "Recall on testing set: 0.500\n"
     ]
    }
   ],
   "source": [
    "print(\"Accuracy on testing set: {:.3f}\".format(WA_tree_example.score(X_test,Y_test)))\n",
    "print(\"Precision on testing set: {:.3f}\".format(precision_score(Y_test,WA_tree_example.predict(X_test), average = 'macro')))\n",
    "print(\"Recall on testing set: {:.3f}\".format(recall_score(Y_test,WA_tree_example.predict(X_test), average = 'macro')))"
   ]
  },
  {
   "cell_type": "code",
   "execution_count": 58,
   "metadata": {},
   "outputs": [
    {
     "data": {
      "text/plain": [
       "SGDClassifier()"
      ]
     },
     "execution_count": 58,
     "metadata": {},
     "output_type": "execute_result"
    }
   ],
   "source": [
    "WA_tree_example = SGDClassifier(loss='hinge',penalty='l2',max_iter=1000)\n",
    "WA_tree_example.fit(X_train,Y_train)"
   ]
  },
  {
   "cell_type": "code",
   "execution_count": 59,
   "metadata": {},
   "outputs": [
    {
     "name": "stdout",
     "output_type": "stream",
     "text": [
      "Accuracy on training set: 0.970\n",
      "Precision on training set: 0.485\n",
      "Recall on training set: 0.500\n"
     ]
    }
   ],
   "source": [
    "print(\"Accuracy on training set: {:.3f}\".format(WA_tree_example.score(X_train,Y_train)))\n",
    "print(\"Precision on training set: {:.3f}\".format(precision_score(Y_train,WA_tree_example.predict(X_train), average = 'macro')))\n",
    "print(\"Recall on training set: {:.3f}\".format(recall_score(Y_train,WA_tree_example.predict(X_train), average = 'macro')))"
   ]
  },
  {
   "cell_type": "code",
   "execution_count": 60,
   "metadata": {},
   "outputs": [
    {
     "name": "stdout",
     "output_type": "stream",
     "text": [
      "Accuracy on testing set: 0.971\n",
      "Precision on testing set: 0.485\n",
      "Recall on testing set: 0.500\n"
     ]
    }
   ],
   "source": [
    "print(\"Accuracy on testing set: {:.3f}\".format(WA_tree_example.score(X_test,Y_test)))\n",
    "print(\"Precision on testing set: {:.3f}\".format(precision_score(Y_test,WA_tree_example.predict(X_test), average = 'macro')))\n",
    "print(\"Recall on testing set: {:.3f}\".format(recall_score(Y_test,WA_tree_example.predict(X_test), average = 'macro')))"
   ]
  },
  {
   "cell_type": "markdown",
   "metadata": {},
   "source": [
    "The values for the respective indicators are extremely consistent on both the training and testing set, and no matter the model we used. Therefore, we can conclude that a decision tree analysis is appropriate. Precision and recall are not optimal, but considering the small proportion of positives in the population they are actually sufficient. Moreover, what this tells us is that there is still a huge human factor in searches which we cannnot take into account in our estimations.\n",
    "\n",
    "Now let's get back to the decision tree."
   ]
  },
  {
   "cell_type": "code",
   "execution_count": 64,
   "metadata": {},
   "outputs": [
    {
     "data": {
      "text/plain": [
       "DecisionTreeClassifier(max_depth=3)"
      ]
     },
     "execution_count": 64,
     "metadata": {},
     "output_type": "execute_result"
    }
   ],
   "source": [
    "WA_tree_example = DecisionTreeClassifier()\n",
    "WA_tree_example.set_params(max_depth = 3)\n",
    "WA_tree_example.fit(X_train,Y_train)"
   ]
  },
  {
   "cell_type": "markdown",
   "metadata": {},
   "source": [
    "### **Step 3**:  Visualization\n",
    "We now want to visualize the results of our analysis"
   ]
  },
  {
   "cell_type": "code",
   "execution_count": 65,
   "metadata": {},
   "outputs": [
    {
     "data": {
      "text/plain": [
       "[Text(558.0, 380.52, 'subject_age <= 0.093\\ngini = 0.057\\nsamples = 5969201\\nvalue = [5792821, 176380]'),\n",
       " Text(279.0, 271.8, 'subject_race <= -0.545\\ngini = 0.071\\nsamples = 3466712\\nvalue = [3339269, 127443]'),\n",
       " Text(139.5, 163.07999999999998, 'subject_sex <= -0.361\\ngini = 0.1\\nsamples = 685561\\nvalue = [649410, 36151]'),\n",
       " Text(69.75, 54.360000000000014, 'gini = 0.059\\nsamples = 188177\\nvalue = [182405, 5772]'),\n",
       " Text(209.25, 54.360000000000014, 'gini = 0.115\\nsamples = 497384\\nvalue = [467005, 30379]'),\n",
       " Text(418.5, 163.07999999999998, 'subject_sex <= -0.361\\ngini = 0.063\\nsamples = 2781151\\nvalue = [2689859, 91292]'),\n",
       " Text(348.75, 54.360000000000014, 'gini = 0.049\\nsamples = 1016243\\nvalue = [990757, 25486]'),\n",
       " Text(488.25, 54.360000000000014, 'gini = 0.072\\nsamples = 1764908\\nvalue = [1699102, 65806]'),\n",
       " Text(837.0, 271.8, 'subject_age <= 1.149\\ngini = 0.038\\nsamples = 2502489\\nvalue = [2453552, 48937]'),\n",
       " Text(697.5, 163.07999999999998, 'subject_race <= -2.449\\ngini = 0.047\\nsamples = 1594719\\nvalue = [1556695, 38024]'),\n",
       " Text(627.75, 54.360000000000014, 'gini = 0.079\\nsamples = 77158\\nvalue = [73961, 3197]'),\n",
       " Text(767.25, 54.360000000000014, 'gini = 0.045\\nsamples = 1517561\\nvalue = [1482734, 34827]'),\n",
       " Text(976.5, 163.07999999999998, 'subject_age <= 1.677\\ngini = 0.024\\nsamples = 907770\\nvalue = [896857, 10913]'),\n",
       " Text(906.75, 54.360000000000014, 'gini = 0.029\\nsamples = 517003\\nvalue = [509335, 7668]'),\n",
       " Text(1046.25, 54.360000000000014, 'gini = 0.016\\nsamples = 390767\\nvalue = [387522, 3245]')]"
      ]
     },
     "execution_count": 65,
     "metadata": {},
     "output_type": "execute_result"
    },
    {
     "data": {
      "image/png": "[encoded data removed]",
      "text/plain": [
       "<Figure size 1440x576 with 1 Axes>"
      ]
     },
     "metadata": {
      "needs_background": "light"
     },
     "output_type": "display_data"
    }
   ],
   "source": [
    "fig, axis = plt.subplots(figsize=(20, 8))\n",
    "plot_tree(WA_tree_example, ax=axis, feature_names=['subject_age','subject_race','subject_sex'])"
   ]
  },
  {
   "cell_type": "code",
   "execution_count": 66,
   "metadata": {},
   "outputs": [
    {
     "data": {
      "text/plain": [
       "Text(0, 0.5, 'Importance')"
      ]
     },
     "execution_count": 66,
     "metadata": {},
     "output_type": "execute_result"
    },
    {
     "data": {
      "image/png": "[encoded data removed]",
      "text/plain": [
       "<Figure size 1440x576 with 1 Axes>"
      ]
     },
     "metadata": {
      "needs_background": "light"
     },
     "output_type": "display_data"
    }
   ],
   "source": [
    "fig, ax = plt.subplots(figsize=(20, 8))\n",
    "ax.bar(['subject_age','subject_race','subject_sex','pre_legalization','years_after_legalization'],WA_tree_example.feature_importances_, color='green')\n",
    "ax.set_ylabel('Importance')"
   ]
  },
  {
   "cell_type": "markdown",
   "metadata": {},
   "source": [
    "\n",
    "\n"
   ]
  },
  {
   "cell_type": "markdown",
   "metadata": {},
   "source": [
    "Based on this example, we can already draw some conclusions on our data. The first one is that subject age is the most important factor in determining if a subject will be searched or not. Intuitively, we can assume that policemen are not really suspicious, or eager to search elderly drivers. Thus, this seems coherent. Race seems to be the second most important factor, as expected with the study results, but the subject sex seems to practically be as important as the subject race. \n",
    "\n",
    "Now, we can wonder if 3 levels is sufficient, and if we can improve our results.\n"
   ]
  },
  {
   "cell_type": "markdown",
   "metadata": {},
   "source": [
    "### **Step 4** : Optimization\n",
    "\n",
    "We will perform a grid search cross validation. We could also perform a randomized search, but here we will test relatively few combinations of hyperparameters, so a grid search will not take too much time to compute, which is the main risk to this method and the main argument to choose a randomized search over it.\n",
    "\n",
    "Here we will try different parameters :\n",
    "\n",
    "gini or entropy criterion\n",
    "\n",
    "best or random splitter\n",
    "\n",
    "max_depth between 1 and 10\n",
    "\n",
    "The last one is especially important because it will determine the number of factors needed to make the best prediction possible of our data\n",
    "\n",
    "We will use as scoring precision, since we mainly want to improve our search rate predictions, and since they are already few searches."
   ]
  },
  {
   "cell_type": "code",
   "execution_count": 70,
   "metadata": {},
   "outputs": [
    {
     "data": {
      "text/plain": [
       "GridSearchCV(estimator=DecisionTreeClassifier(),\n",
       "             param_grid={'criterion': ('gini', 'entropy'), 'max_depth': [1, 10],\n",
       "                         'splitter': ('best', 'random')},\n",
       "             scoring='precision')"
      ]
     },
     "execution_count": 70,
     "metadata": {},
     "output_type": "execute_result"
    }
   ],
   "source": [
    "WA_tree = DecisionTreeClassifier()\n",
    "\n",
    "parameters = {'criterion' : ('gini','entropy'), 'splitter' : ('best','random'), 'max_depth' : [1,10]}\n",
    "GS_WA = GridSearchCV(WA_tree, parameters, scoring = 'precision')\n",
    "GS_WA.fit(X_val, Y_val)"
   ]
  },
  {
   "cell_type": "code",
   "execution_count": 75,
   "metadata": {},
   "outputs": [
    {
     "name": "stdout",
     "output_type": "stream",
     "text": [
      "Best criterion: entropy\n",
      "Best splitter: random\n",
      "Best max_depth: 10\n",
      "\n",
      "{'ccp_alpha': 0.0, 'class_weight': None, 'criterion': 'entropy', 'max_depth': 10, 'max_features': None, 'max_leaf_nodes': None, 'min_impurity_decrease': 0.0, 'min_impurity_split': None, 'min_samples_leaf': 1, 'min_samples_split': 2, 'min_weight_fraction_leaf': 0.0, 'presort': 'deprecated', 'random_state': None, 'splitter': 'random'}\n",
      "\n",
      "Best Score: 0.2\n"
     ]
    }
   ],
   "source": [
    "print('Best criterion:', GS_WA.best_estimator_.get_params()['criterion'])\n",
    "print('Best splitter:', GS_WA.best_estimator_.get_params()['splitter'])\n",
    "print('Best max_depth:', GS_WA.best_estimator_.get_params()['max_depth'])\n",
    "print()\n",
    "print(GS_WA.best_estimator_.get_params(['WA_tree']))\n",
    "print()"
   ]
  },
  {
   "cell_type": "code",
   "execution_count": 76,
   "metadata": {},
   "outputs": [],
   "source": [
    "WA_tree = GS_WA.best_estimator_.fit(X_train,Y_train)"
   ]
  },
  {
   "cell_type": "code",
   "execution_count": 77,
   "metadata": {},
   "outputs": [
    {
     "name": "stdout",
     "output_type": "stream",
     "text": [
      "Accuracy on training set: 0.970\n",
      "Precision on training set: 0.985\n",
      "Recall on training set: 0.500\n"
     ]
    }
   ],
   "source": [
    "print(\"Accuracy on training set: {:.3f}\".format(WA_tree.score(X_train,Y_train)))\n",
    "print(\"Precision on training set: {:.3f}\".format(precision_score(Y_train,WA_tree.predict(X_train), average = 'macro')))\n",
    "print(\"Recall on training set: {:.3f}\".format(recall_score(Y_train,WA_tree.predict(X_train), average = 'macro')))"
   ]
  },
  {
   "cell_type": "code",
   "execution_count": 78,
   "metadata": {},
   "outputs": [
    {
     "name": "stdout",
     "output_type": "stream",
     "text": [
      "Accuracy on testing set: 0.971\n",
      "Precision on testing set: 0.485\n",
      "Recall on testing set: 0.500\n"
     ]
    }
   ],
   "source": [
    "print(\"Accuracy on testing set: {:.3f}\".format(WA_tree.score(X_test,Y_test)))\n",
    "print(\"Precision on testing set: {:.3f}\".format(precision_score(Y_test,WA_tree.predict(X_test), average = 'macro')))\n",
    "print(\"Recall on testing set: {:.3f}\".format(recall_score(Y_test,WA_tree.predict(X_test), average = 'macro')))"
   ]
  },
  {
   "cell_type": "markdown",
   "metadata": {},
   "source": [
    "This tree is way too complex to be plotted or exploited graphically. Training set precision is extremely high, but this did not really improve the testing set precision compared to the 3 level tree. Therefore, we can conclude that decision trees are poorly generalizable, and also that it is not necessary to use this many levels."
   ]
  },
  {
   "cell_type": "markdown",
   "metadata": {},
   "source": [
    "### **Step 5** : final analysis"
   ]
  },
  {
   "cell_type": "markdown",
   "metadata": {},
   "source": [
    "Based on our previous observations, a 5 level tree seems sufficient to give us insight on the most important factors in predicting if a subject will be searched or not. We can also reuse the criterion and splitter deduced by the grid search."
   ]
  },
  {
   "cell_type": "code",
   "execution_count": 79,
   "metadata": {},
   "outputs": [],
   "source": [
    "WA_tree_final = DecisionTreeClassifier(max_depth = 5, criterion = 'entropy', splitter = 'random').fit(X_train,Y_train)"
   ]
  },
  {
   "cell_type": "code",
   "execution_count": 81,
   "metadata": {},
   "outputs": [
    {
     "data": {
      "text/plain": [
       "[Text(1395.0, 996.6, 'subject_age <= -0.542\\nentropy = 0.192\\nsamples = 5969201\\nvalue = [5792821, 176380]'),\n",
       " Text(697.5, 815.4000000000001, 'subject_sex <= -0.27\\nentropy = 0.24\\nsamples = 2193264\\nvalue = [2106740, 86524]'),\n",
       " Text(348.75, 634.2, 'subject_age <= -1.133\\nentropy = 0.18\\nsamples = 787689\\nvalue = [766221, 21468]'),\n",
       " Text(174.375, 453.0, 'pre_legalization <= 0.003\\nentropy = 0.146\\nsamples = 238823\\nvalue = [233857, 4966]'),\n",
       " Text(87.1875, 271.79999999999995, 'subject_race <= -2.585\\nentropy = 0.121\\nsamples = 131729\\nvalue = [129560, 2169]'),\n",
       " Text(43.59375, 90.59999999999991, 'entropy = 0.186\\nsamples = 6883\\nvalue = [6688, 195]'),\n",
       " Text(130.78125, 90.59999999999991, 'entropy = 0.117\\nsamples = 124846\\nvalue = [122872, 1974]'),\n",
       " Text(261.5625, 271.79999999999995, 'subject_race <= -1.883\\nentropy = 0.175\\nsamples = 107094\\nvalue = [104297, 2797]'),\n",
       " Text(217.96875, 90.59999999999991, 'entropy = 0.261\\nsamples = 4486\\nvalue = [4288, 198]'),\n",
       " Text(305.15625, 90.59999999999991, 'entropy = 0.17\\nsamples = 102608\\nvalue = [100009, 2599]'),\n",
       " Text(523.125, 453.0, 'pre_legalization <= 1.117\\nentropy = 0.195\\nsamples = 548866\\nvalue = [532364, 16502]'),\n",
       " Text(435.9375, 271.79999999999995, 'subject_race <= -0.83\\nentropy = 0.176\\nsamples = 314947\\nvalue = [306610, 8337]'),\n",
       " Text(392.34375, 90.59999999999991, 'entropy = 0.201\\nsamples = 56636\\nvalue = [54866, 1770]'),\n",
       " Text(479.53125, 90.59999999999991, 'entropy = 0.171\\nsamples = 258311\\nvalue = [251744, 6567]'),\n",
       " Text(610.3125, 271.79999999999995, 'subject_race <= -2.313\\nentropy = 0.218\\nsamples = 233919\\nvalue = [225754, 8165]'),\n",
       " Text(566.71875, 90.59999999999991, 'entropy = 0.32\\nsamples = 12302\\nvalue = [11588, 714]'),\n",
       " Text(653.90625, 90.59999999999991, 'entropy = 0.212\\nsamples = 221617\\nvalue = [214166, 7451]'),\n",
       " Text(1046.25, 634.2, 'pre_legalization <= -0.382\\nentropy = 0.27\\nsamples = 1405575\\nvalue = [1340519, 65056]'),\n",
       " Text(871.875, 453.0, 'subject_race <= -2.0\\nentropy = 0.24\\nsamples = 793148\\nvalue = [761902, 31246]'),\n",
       " Text(784.6875, 271.79999999999995, 'years_before_legalization <= -0.658\\nentropy = 0.323\\nsamples = 59432\\nvalue = [55934, 3498]'),\n",
       " Text(741.09375, 90.59999999999991, 'entropy = 0.352\\nsamples = 3346\\nvalue = [3124, 222]'),\n",
       " Text(828.28125, 90.59999999999991, 'entropy = 0.321\\nsamples = 56086\\nvalue = [52810, 3276]'),\n",
       " Text(959.0625, 271.79999999999995, 'subject_race <= -0.859\\nentropy = 0.232\\nsamples = 733716\\nvalue = [705968, 27748]'),\n",
       " Text(915.46875, 90.59999999999991, 'entropy = 0.313\\nsamples = 127799\\nvalue = [120598, 7201]'),\n",
       " Text(1002.65625, 90.59999999999991, 'entropy = 0.214\\nsamples = 605917\\nvalue = [585370, 20547]'),\n",
       " Text(1220.625, 453.0, 'subject_race <= -0.683\\nentropy = 0.308\\nsamples = 612427\\nvalue = [578617, 33810]'),\n",
       " Text(1133.4375, 271.79999999999995, 'subject_race <= -1.903\\nentropy = 0.406\\nsamples = 124323\\nvalue = [114236, 10087]'),\n",
       " Text(1089.84375, 90.59999999999991, 'entropy = 0.446\\nsamples = 35858\\nvalue = [32525, 3333]'),\n",
       " Text(1177.03125, 90.59999999999991, 'entropy = 0.389\\nsamples = 88465\\nvalue = [81711, 6754]'),\n",
       " Text(1307.8125, 271.79999999999995, 'subject_age <= -1.45\\nentropy = 0.28\\nsamples = 488104\\nvalue = [464381, 23723]'),\n",
       " Text(1264.21875, 90.59999999999991, 'entropy = 0.248\\nsamples = 9052\\nvalue = [8678, 374]'),\n",
       " Text(1351.40625, 90.59999999999991, 'entropy = 0.281\\nsamples = 479052\\nvalue = [455703, 23349]'),\n",
       " Text(2092.5, 815.4000000000001, 'subject_race <= -0.065\\nentropy = 0.162\\nsamples = 3775937\\nvalue = [3686081, 89856]'),\n",
       " Text(1743.75, 634.2, 'subject_sex <= 0.1\\nentropy = 0.23\\nsamples = 519812\\nvalue = [500398, 19414]'),\n",
       " Text(1569.375, 453.0, 'subject_race <= -2.827\\nentropy = 0.145\\nsamples = 126957\\nvalue = [124334, 2623]'),\n",
       " Text(1482.1875, 271.79999999999995, 'subject_age <= 0.331\\nentropy = 0.186\\nsamples = 45755\\nvalue = [44458, 1297]'),\n",
       " Text(1438.59375, 90.59999999999991, 'entropy = 0.21\\nsamples = 27178\\nvalue = [26279, 899]'),\n",
       " Text(1525.78125, 90.59999999999991, 'entropy = 0.149\\nsamples = 18577\\nvalue = [18179, 398]'),\n",
       " Text(1656.5625, 271.79999999999995, 'pre_legalization <= -0.149\\nentropy = 0.12\\nsamples = 81202\\nvalue = [79876, 1326]'),\n",
       " Text(1612.96875, 90.59999999999991, 'entropy = 0.11\\nsamples = 51264\\nvalue = [50515, 749]'),\n",
       " Text(1700.15625, 90.59999999999991, 'entropy = 0.137\\nsamples = 29938\\nvalue = [29361, 577]'),\n",
       " Text(1918.125, 453.0, 'subject_age <= 1.019\\nentropy = 0.255\\nsamples = 392855\\nvalue = [376064, 16791]'),\n",
       " Text(1830.9375, 271.79999999999995, 'subject_race <= -2.55\\nentropy = 0.267\\nsamples = 336853\\nvalue = [321522, 15331]'),\n",
       " Text(1787.34375, 90.59999999999991, 'entropy = 0.31\\nsamples = 109869\\nvalue = [103745, 6124]'),\n",
       " Text(1874.53125, 90.59999999999991, 'entropy = 0.245\\nsamples = 226984\\nvalue = [217777, 9207]'),\n",
       " Text(2005.3125, 271.79999999999995, 'subject_age <= 1.43\\nentropy = 0.174\\nsamples = 56002\\nvalue = [54542, 1460]'),\n",
       " Text(1961.71875, 90.59999999999991, 'entropy = 0.193\\nsamples = 31109\\nvalue = [30184, 925]'),\n",
       " Text(2048.90625, 90.59999999999991, 'entropy = 0.15\\nsamples = 24893\\nvalue = [24358, 535]'),\n",
       " Text(2441.25, 634.2, 'subject_age <= 0.997\\nentropy = 0.151\\nsamples = 3256125\\nvalue = [3185683, 70442]'),\n",
       " Text(2266.875, 453.0, 'subject_sex <= -1.301\\nentropy = 0.173\\nsamples = 2249662\\nvalue = [2191763, 57899]'),\n",
       " Text(2179.6875, 271.79999999999995, 'subject_age <= 0.149\\nentropy = 0.149\\nsamples = 758555\\nvalue = [742376, 16179]'),\n",
       " Text(2136.09375, 90.59999999999991, 'entropy = 0.158\\nsamples = 383682\\nvalue = [374864, 8818]'),\n",
       " Text(2223.28125, 90.59999999999991, 'entropy = 0.139\\nsamples = 374873\\nvalue = [367512, 7361]'),\n",
       " Text(2354.0625, 271.79999999999995, 'subject_age <= -0.17\\nentropy = 0.184\\nsamples = 1491107\\nvalue = [1449387, 41720]'),\n",
       " Text(2310.46875, 90.59999999999991, 'entropy = 0.213\\nsamples = 426983\\nvalue = [412538, 14445]'),\n",
       " Text(2397.65625, 90.59999999999991, 'entropy = 0.172\\nsamples = 1064124\\nvalue = [1036849, 27275]'),\n",
       " Text(2615.625, 453.0, 'subject_sex <= 0.532\\nentropy = 0.097\\nsamples = 1006463\\nvalue = [993920, 12543]'),\n",
       " Text(2528.4375, 271.79999999999995, 'subject_age <= 1.869\\nentropy = 0.081\\nsamples = 298097\\nvalue = [295123, 2974]'),\n",
       " Text(2484.84375, 90.59999999999991, 'entropy = 0.089\\nsamples = 228569\\nvalue = [226001, 2568]'),\n",
       " Text(2572.03125, 90.59999999999991, 'entropy = 0.052\\nsamples = 69528\\nvalue = [69122, 406]'),\n",
       " Text(2702.8125, 271.79999999999995, 'subject_age <= 3.198\\nentropy = 0.103\\nsamples = 708366\\nvalue = [698797, 9569]'),\n",
       " Text(2659.21875, 90.59999999999991, 'entropy = 0.103\\nsamples = 703484\\nvalue = [693953, 9531]'),\n",
       " Text(2746.40625, 90.59999999999991, 'entropy = 0.066\\nsamples = 4882\\nvalue = [4844, 38]')]"
      ]
     },
     "execution_count": 81,
     "metadata": {},
     "output_type": "execute_result"
    },
    {
     "data": {
      "image/png": "[encoded data removed]",
      "text/plain": [
       "<Figure size 3600x1440 with 1 Axes>"
      ]
     },
     "metadata": {
      "needs_background": "light"
     },
     "output_type": "display_data"
    }
   ],
   "source": [
    "fig, axis = plt.subplots(figsize=(50, 20))\n",
    "plot_tree(WA_tree_final, ax=axis, feature_names=['subject_age','subject_race','subject_sex','pre_legalization','years_before_legalization'])"
   ]
  },
  {
   "cell_type": "markdown",
   "metadata": {},
   "source": []
  }
 ],
 "metadata": {
  "kernelspec": {
   "display_name": "Python 3",
   "language": "python",
   "name": "python3"
  },
  "language_info": {
   "codemirror_mode": {
    "name": "ipython",
    "version": 3
   },
   "file_extension": ".py",
   "mimetype": "text/x-python",
   "name": "python",
   "nbconvert_exporter": "python",
   "pygments_lexer": "ipython3",
   "version": "3.8.3"
  }
 },
 "nbformat": 4,
 "nbformat_minor": 4
}
