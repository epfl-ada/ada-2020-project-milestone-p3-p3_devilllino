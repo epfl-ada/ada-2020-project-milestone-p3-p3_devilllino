{
 "cells": [
  {
   "cell_type": "code",
   "execution_count": 1,
   "metadata": {},
   "outputs": [],
   "source": [
    "import pandas as pd\n",
    "import numpy as np\n",
    "import matplotlib.pyplot as plt\n",
    "import matplotlib\n",
    "import seaborn as sns\n",
    "from datetime import datetime, date, time\n",
    "import warnings\n",
    "warnings.filterwarnings('ignore')"
   ]
  },
  {
   "cell_type": "code",
   "execution_count": 2,
   "metadata": {},
   "outputs": [],
   "source": [
    "#Defining the location of the data folder \n",
    "DATA_FOLDER = 'Desktop/m_3/'"
   ]
  },
  {
   "cell_type": "code",
   "execution_count": 3,
   "metadata": {},
   "outputs": [],
   "source": [
    "#Definition of the data path\n",
    "VT_DATASET = DATA_FOLDER + \"wa.csv\""
   ]
  },
  {
   "cell_type": "code",
   "execution_count": null,
   "metadata": {},
   "outputs": [],
   "source": [
    "#Load of the compressed files in a specific way in function of the type of data file \n",
    "wa = pd.read_csv(VT_DATASET,sep =',')"
   ]
  },
  {
   "cell_type": "code",
   "execution_count": null,
   "metadata": {},
   "outputs": [],
   "source": [
    "wa"
   ]
  },
  {
   "cell_type": "code",
   "execution_count": null,
   "metadata": {},
   "outputs": [],
   "source": [
    "#Pandas dataframe.notnull() function detects existing/ non-missing values in the dataframe, we will use to filter the data useful:\n",
    "wa = wa[wa.notnull()]\n",
    "wa"
   ]
  },
  {
   "cell_type": "markdown",
   "metadata": {},
   "source": [
    "Before to continuing it is interesting to see the diferent data types for each column that we have in our main dataframe."
   ]
  },
  {
   "cell_type": "code",
   "execution_count": null,
   "metadata": {},
   "outputs": [],
   "source": [
    "wa.dtypes"
   ]
  },
  {
   "cell_type": "code",
   "execution_count": null,
   "metadata": {},
   "outputs": [],
   "source": [
    "#It is important for the followings parts to get the columns of date and time into a datetime type.\n",
    "#There ara many ways to do this tranformation of the data type but we decide to use the pandas function pd.to_datetime:\n",
    "\n",
    "#First for the date column:\n",
    "wa_datetime = pd.to_datetime(wa.date)\n",
    "wa.date = wa_datetime"
   ]
  },
  {
   "cell_type": "markdown",
   "metadata": {},
   "source": [
    "Before continuing with the task of hangling data, he have to comprovate that we get in a good way the datetime step because is esential for the next parts of the project."
   ]
  },
  {
   "cell_type": "code",
   "execution_count": null,
   "metadata": {},
   "outputs": [],
   "source": [
    "wa.head()"
   ]
  },
  {
   "cell_type": "code",
   "execution_count": null,
   "metadata": {},
   "outputs": [],
   "source": [
    "wa.dtypes"
   ]
  },
  {
   "cell_type": "markdown",
   "metadata": {},
   "source": [
    "We have to create a new column to see if the driver stop is after or before the legalitzation of the recreative marijuana in Washignton. If is before, we will get a 1 in the column and a 0 if is after this day."
   ]
  },
  {
   "cell_type": "code",
   "execution_count": null,
   "metadata": {},
   "outputs": [],
   "source": [
    "#Creating a variable with this information to compare after with our dataframe values.\n",
    "a = '2012-12-06'\n",
    "a_datetime = pd.to_datetime(a)\n",
    "a = a_datetime\n",
    "a"
   ]
  },
  {
   "cell_type": "markdown",
   "metadata": {},
   "source": [
    "To create this new column we will use the tool date.toordinal cause is easier for python works with this type of data and also is easier to make comparation. We will pass to this new format the date column creating a new column with a new name date_ordinal. Also we will do the same with the date that marijuana becomes legal in Washignton due to after we will use this date to make an analysis and create new columns with useful information for the final model."
   ]
  },
  {
   "cell_type": "code",
   "execution_count": null,
   "metadata": {},
   "outputs": [],
   "source": [
    "#Creating the new column with the date_ordinal format:\n",
    "wa['date_ordinal'] = wa['date'].apply(lambda date: date.toordinal())\n",
    "\n",
    "#Convert the date of marijuana legalization in a date_odinal format:\n",
    "a_ordinal = a.toordinal()"
   ]
  },
  {
   "cell_type": "markdown",
   "metadata": {},
   "source": [
    "We have to check if we get the format that we want."
   ]
  },
  {
   "cell_type": "code",
   "execution_count": null,
   "metadata": {},
   "outputs": [],
   "source": [
    "wa.date_ordinal"
   ]
  },
  {
   "cell_type": "code",
   "execution_count": null,
   "metadata": {},
   "outputs": [],
   "source": [
    "a_ordinal"
   ]
  },
  {
   "cell_type": "markdown",
   "metadata": {},
   "source": [
    "How we can see we get the values in a more manageable format to make operations. We will create the column of pre_legalization."
   ]
  },
  {
   "cell_type": "code",
   "execution_count": null,
   "metadata": {},
   "outputs": [],
   "source": [
    "wa['pre_legalization'] = wa.date_ordinal.apply(lambda x: x < a_ordinal)\n",
    "wa.pre_legalization = wa.pre_legalization.astype(int)\n",
    "wa.pre_legalization"
   ]
  },
  {
   "cell_type": "markdown",
   "metadata": {},
   "source": [
    "How we can see we get this new column that we will use later, but the next step is calculate the time in years after legalitzation for each stop that happens in this concret period. For the other values that we will obtain during the period before legalitzation we will put a 0 value to represent this fact."
   ]
  },
  {
   "cell_type": "code",
   "execution_count": null,
   "metadata": {},
   "outputs": [],
   "source": [
    "#We will call this column like years_after_legalization:\n",
    "wa['years_after_legalization'] = (wa['date_ordinal']-a_ordinal)/365\n",
    "wa.years_after_legalization"
   ]
  },
  {
   "cell_type": "code",
   "execution_count": null,
   "metadata": {},
   "outputs": [],
   "source": [
    "Now we have to put in a better way, where all the values under 0 will be zero to get a more clean column."
   ]
  },
  {
   "cell_type": "code",
   "execution_count": null,
   "metadata": {},
   "outputs": [],
   "source": [
    "#Creating the length range subrtacting one due to the index in the loop begins with i=0.\n",
    "length = wa.shape[0]\n",
    "l=range(length-1)\n",
    "l"
   ]
  },
  {
   "cell_type": "code",
   "execution_count": null,
   "metadata": {},
   "outputs": [],
   "source": [
    "for i in l:\n",
    "    \n",
    "    b = wa.years_after_legalization[i]\n",
    "    \n",
    "    if b < 0:\n",
    "        b = 0\n",
    "        wa.years_after_legalization[i] = b"
   ]
  },
  {
   "cell_type": "markdown",
   "metadata": {},
   "source": [
    "Finally, the last step in this section will be to see if the columns with the expected values have been obtained."
   ]
  },
  {
   "cell_type": "code",
   "execution_count": null,
   "metadata": {},
   "outputs": [],
   "source": [
    "wa"
   ]
  },
  {
   "cell_type": "markdown",
   "metadata": {},
   "source": [
    "We can show that the columns obtained are in a correct way like we expected and rigth now we areable to begin with the analysis."
   ]
  }
 ],
 "metadata": {
  "kernelspec": {
   "display_name": "Python 3",
   "language": "python",
   "name": "python3"
  },
  "language_info": {
   "codemirror_mode": {
    "name": "ipython",
    "version": 3
   },
   "file_extension": ".py",
   "mimetype": "text/x-python",
   "name": "python",
   "nbconvert_exporter": "python",
   "pygments_lexer": "ipython3",
   "version": "3.8.5"
  }
 },
 "nbformat": 4,
 "nbformat_minor": 4
}
