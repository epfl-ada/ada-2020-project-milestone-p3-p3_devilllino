{
 "cells": [
  {
   "cell_type": "markdown",
   "metadata": {},
   "source": [
    "# **Ada Project : Creative extension**\n",
    "## Milestone P3\n",
    "\n",
    "### **Supplementary method :** Decision tree\n",
    "\n",
    "The idea of the original paper is to demonstarte (if possible) that there is a racial profiling trend across the united states, the authors do so by using severall methods that mostly take data across all available states. We have decided here to limit the search to one state, as we think that there may be different trends in the different states (As demonstrated for instance by the marijuane legalisation/search rate test). We also decided to implement a method that the paper hasn't used: The decision tree, which we think is a robust statistical test that correspond to the data we have. We know that our conclusions won't be able to caracterize the polices officers behaviour across the states but only to the specifical instance of the washington state patrol. "
   ]
  },
  {
   "cell_type": "code",
   "execution_count": 1,
   "metadata": {},
   "outputs": [],
   "source": [
    "#We first import all the libraries we will need\n",
    "\n",
    "import pandas as pd\n",
    "import numpy as np\n",
    "import seaborn as sns\n",
    "\n",
    "import matplotlib.pyplot as plt\n",
    "import matplotlib\n",
    "\n",
    "import warnings\n",
    "import random\n",
    "\n",
    "from datetime import datetime, date, time\n",
    "\n",
    "from sklearn.tree import DecisionTreeClassifier, plot_tree  \n",
    "from sklearn.model_selection import RandomizedSearchCV,train_test_split\n",
    "from sklearn import preprocessing\n",
    "\n",
    "warnings.filterwarnings('ignore')"
   ]
  },
  {
   "cell_type": "markdown",
   "metadata": {},
   "source": [
    "### **Step 1**:  Source of Data\n",
    "The original paper gives a link to the source of their data the Stanford Open Policing project :https://openpolicing.stanford.edu/data/. Sevrall million of stops are categorized there but as we said we decided to limit ourselves to only one state, which we thought needed to be heavily populated and where state patrols had recorded  a lot of stops owith information on the racial appearence of the subjects, the time of the stop, the subject age, the subjet sex and if a search had been conducted. Our choice was therefore the state of washington and the 11 million state patrol stopps.\n",
    "\n",
    "But this also meant that the file containing all these stops was really large and the computation time being so long we had to take only parts of the original csv.  To achieve this, as the data is sorted by date, we sampled the orignal dataset randomly and took a about 500 000. That is aproximately 4,5% . \n",
    "\n",
    "Some of us also had enough good computers to use the whole dataset, so we made it possible to switch."
   ]
  },
  {
   "cell_type": "code",
   "execution_count": 2,
   "metadata": {},
   "outputs": [],
   "source": [
    "#We first define which computer is used. For the final rendering we will uses Nathan computer with the whole dataset but we still decided to keep the other options.\n",
    "computer ='Nathan'"
   ]
  },
  {
   "cell_type": "code",
   "execution_count": 3,
   "metadata": {},
   "outputs": [],
   "source": [
    "#Loading our dataset splited in a random way for the different computers:\n",
    "if computer =='Alex':\n",
    "    filename = \"Desktop/m_3/wa.csv\" #path on Alex computer\n",
    "    \n",
    "    n = sum(1 for line in open(filename)) - 1 #number of records in file (excludes header)\n",
    "    s = 500000 #desired sample size, longer sample sizes will significantly increase runtime\n",
    "    skip = sorted(random.sample(range(1,n+1),n-s)) #the 0-indexed header will not be included in the skip list\n",
    "\n",
    "    wa = pd.read_csv(filename, skiprows=skip) #uncomment this line and comment the following line for only importing s samples\n",
    "    \n",
    "elif computer == 'Jean':\n",
    "    filename = \"/Users/jeandevillard/Desktop/m_3/wa.csv\" #path on Jean computer\n",
    "    wa = pd.read_csv(filename)\n",
    "\n",
    "elif computer == 'Nathan':\n",
    "    filename = \"data/wa_statewide_2020_04_01.csv\" #where your data should be :)\n",
    "    wa = pd.read_csv(filename)"
   ]
  },
  {
   "cell_type": "code",
   "execution_count": 4,
   "metadata": {},
   "outputs": [
    {
     "data": {
      "text/html": [
       "<div>\n",
       "<style scoped>\n",
       "    .dataframe tbody tr th:only-of-type {\n",
       "        vertical-align: middle;\n",
       "    }\n",
       "\n",
       "    .dataframe tbody tr th {\n",
       "        vertical-align: top;\n",
       "    }\n",
       "\n",
       "    .dataframe thead th {\n",
       "        text-align: right;\n",
       "    }\n",
       "</style>\n",
       "<table border=\"1\" class=\"dataframe\">\n",
       "  <thead>\n",
       "    <tr style=\"text-align: right;\">\n",
       "      <th></th>\n",
       "      <th>raw_row_number</th>\n",
       "      <th>date</th>\n",
       "      <th>time</th>\n",
       "      <th>location</th>\n",
       "      <th>lat</th>\n",
       "      <th>lng</th>\n",
       "      <th>county_name</th>\n",
       "      <th>subject_age</th>\n",
       "      <th>subject_race</th>\n",
       "      <th>subject_sex</th>\n",
       "      <th>...</th>\n",
       "      <th>frisk_performed</th>\n",
       "      <th>search_conducted</th>\n",
       "      <th>search_basis</th>\n",
       "      <th>raw_officer_race</th>\n",
       "      <th>raw_officer_gender</th>\n",
       "      <th>raw_contact_type</th>\n",
       "      <th>raw_driver_race</th>\n",
       "      <th>raw_driver_gender</th>\n",
       "      <th>raw_search_type</th>\n",
       "      <th>raw_enforcements</th>\n",
       "    </tr>\n",
       "  </thead>\n",
       "  <tbody>\n",
       "    <tr>\n",
       "      <th>0</th>\n",
       "      <td>1</td>\n",
       "      <td>2009-10-27</td>\n",
       "      <td>11:00:00</td>\n",
       "      <td>S-012-344</td>\n",
       "      <td>46.114221</td>\n",
       "      <td>-118.224510</td>\n",
       "      <td>Walla Walla County</td>\n",
       "      <td>30.0</td>\n",
       "      <td>white</td>\n",
       "      <td>male</td>\n",
       "      <td>...</td>\n",
       "      <td>False</td>\n",
       "      <td>False</td>\n",
       "      <td>NaN</td>\n",
       "      <td>WHITE</td>\n",
       "      <td>-</td>\n",
       "      <td>--</td>\n",
       "      <td>White</td>\n",
       "      <td>M</td>\n",
       "      <td>N</td>\n",
       "      <td>-|-|-</td>\n",
       "    </tr>\n",
       "    <tr>\n",
       "      <th>1</th>\n",
       "      <td>2</td>\n",
       "      <td>2009-10-04</td>\n",
       "      <td>21:00:00</td>\n",
       "      <td>I-090-10</td>\n",
       "      <td>47.580522</td>\n",
       "      <td>-122.170289</td>\n",
       "      <td>King County</td>\n",
       "      <td>29.0</td>\n",
       "      <td>black</td>\n",
       "      <td>male</td>\n",
       "      <td>...</td>\n",
       "      <td>False</td>\n",
       "      <td>False</td>\n",
       "      <td>NaN</td>\n",
       "      <td>WHITE</td>\n",
       "      <td>-</td>\n",
       "      <td>--</td>\n",
       "      <td>African American</td>\n",
       "      <td>M</td>\n",
       "      <td>N</td>\n",
       "      <td>-|-</td>\n",
       "    </tr>\n",
       "    <tr>\n",
       "      <th>2</th>\n",
       "      <td>3</td>\n",
       "      <td>2009-10-04</td>\n",
       "      <td>03:00:00</td>\n",
       "      <td>I-090-72</td>\n",
       "      <td>47.250003</td>\n",
       "      <td>-121.189883</td>\n",
       "      <td>Kittitas County</td>\n",
       "      <td>25.0</td>\n",
       "      <td>white</td>\n",
       "      <td>male</td>\n",
       "      <td>...</td>\n",
       "      <td>False</td>\n",
       "      <td>False</td>\n",
       "      <td>NaN</td>\n",
       "      <td>WHITE</td>\n",
       "      <td>-</td>\n",
       "      <td>--</td>\n",
       "      <td>White</td>\n",
       "      <td>M</td>\n",
       "      <td>N</td>\n",
       "      <td>NaN</td>\n",
       "    </tr>\n",
       "    <tr>\n",
       "      <th>3</th>\n",
       "      <td>4</td>\n",
       "      <td>2009-10-04</td>\n",
       "      <td>13:00:00</td>\n",
       "      <td>S-014-3</td>\n",
       "      <td>45.615344</td>\n",
       "      <td>-122.612893</td>\n",
       "      <td>Clark County</td>\n",
       "      <td>19.0</td>\n",
       "      <td>white</td>\n",
       "      <td>female</td>\n",
       "      <td>...</td>\n",
       "      <td>False</td>\n",
       "      <td>False</td>\n",
       "      <td>NaN</td>\n",
       "      <td>WHITE</td>\n",
       "      <td>-</td>\n",
       "      <td>--</td>\n",
       "      <td>White</td>\n",
       "      <td>F</td>\n",
       "      <td>N</td>\n",
       "      <td>-|-|-|-|-|-</td>\n",
       "    </tr>\n",
       "    <tr>\n",
       "      <th>4</th>\n",
       "      <td>5</td>\n",
       "      <td>2009-10-11</td>\n",
       "      <td>08:00:00</td>\n",
       "      <td>S-003-40</td>\n",
       "      <td>47.590284</td>\n",
       "      <td>-122.698671</td>\n",
       "      <td>Kitsap County</td>\n",
       "      <td>25.0</td>\n",
       "      <td>white</td>\n",
       "      <td>male</td>\n",
       "      <td>...</td>\n",
       "      <td>False</td>\n",
       "      <td>False</td>\n",
       "      <td>NaN</td>\n",
       "      <td>WHITE</td>\n",
       "      <td>-</td>\n",
       "      <td>--</td>\n",
       "      <td>White</td>\n",
       "      <td>M</td>\n",
       "      <td>N</td>\n",
       "      <td>-|-</td>\n",
       "    </tr>\n",
       "  </tbody>\n",
       "</table>\n",
       "<p>5 rows × 30 columns</p>\n",
       "</div>"
      ],
      "text/plain": [
       "   raw_row_number        date      time   location        lat         lng  \\\n",
       "0               1  2009-10-27  11:00:00  S-012-344  46.114221 -118.224510   \n",
       "1               2  2009-10-04  21:00:00   I-090-10  47.580522 -122.170289   \n",
       "2               3  2009-10-04  03:00:00   I-090-72  47.250003 -121.189883   \n",
       "3               4  2009-10-04  13:00:00    S-014-3  45.615344 -122.612893   \n",
       "4               5  2009-10-11  08:00:00   S-003-40  47.590284 -122.698671   \n",
       "\n",
       "          county_name  subject_age subject_race subject_sex  ...  \\\n",
       "0  Walla Walla County         30.0        white        male  ...   \n",
       "1         King County         29.0        black        male  ...   \n",
       "2     Kittitas County         25.0        white        male  ...   \n",
       "3        Clark County         19.0        white      female  ...   \n",
       "4       Kitsap County         25.0        white        male  ...   \n",
       "\n",
       "  frisk_performed search_conducted search_basis raw_officer_race  \\\n",
       "0           False            False          NaN            WHITE   \n",
       "1           False            False          NaN            WHITE   \n",
       "2           False            False          NaN            WHITE   \n",
       "3           False            False          NaN            WHITE   \n",
       "4           False            False          NaN            WHITE   \n",
       "\n",
       "  raw_officer_gender raw_contact_type   raw_driver_race  raw_driver_gender  \\\n",
       "0                  -               --             White                  M   \n",
       "1                  -               --  African American                  M   \n",
       "2                  -               --             White                  M   \n",
       "3                  -               --             White                  F   \n",
       "4                  -               --             White                  M   \n",
       "\n",
       "  raw_search_type raw_enforcements  \n",
       "0               N            -|-|-  \n",
       "1               N              -|-  \n",
       "2               N              NaN  \n",
       "3               N      -|-|-|-|-|-  \n",
       "4               N              -|-  \n",
       "\n",
       "[5 rows x 30 columns]"
      ]
     },
     "execution_count": 4,
     "metadata": {},
     "output_type": "execute_result"
    }
   ],
   "source": [
    "wa.head()"
   ]
  },
  {
   "cell_type": "markdown",
   "metadata": {},
   "source": [
    "Before continuing we quickly check the diferent data types for each column that we have in our main dataframe."
   ]
  },
  {
   "cell_type": "code",
   "execution_count": 5,
   "metadata": {},
   "outputs": [
    {
     "data": {
      "text/plain": [
       "raw_row_number          int64\n",
       "date                   object\n",
       "time                   object\n",
       "location               object\n",
       "lat                   float64\n",
       "lng                   float64\n",
       "county_name            object\n",
       "subject_age           float64\n",
       "subject_race           object\n",
       "subject_sex            object\n",
       "officer_race           object\n",
       "officer_sex            object\n",
       "department_name        object\n",
       "type                   object\n",
       "violation              object\n",
       "arrest_made            object\n",
       "citation_issued          bool\n",
       "warning_issued           bool\n",
       "outcome                object\n",
       "contraband_found       object\n",
       "frisk_performed          bool\n",
       "search_conducted         bool\n",
       "search_basis           object\n",
       "raw_officer_race       object\n",
       "raw_officer_gender     object\n",
       "raw_contact_type       object\n",
       "raw_driver_race        object\n",
       "raw_driver_gender      object\n",
       "raw_search_type        object\n",
       "raw_enforcements       object\n",
       "dtype: object"
      ]
     },
     "execution_count": 5,
     "metadata": {},
     "output_type": "execute_result"
    }
   ],
   "source": [
    "wa.dtypes"
   ]
  },
  {
   "cell_type": "code",
   "execution_count": 6,
   "metadata": {},
   "outputs": [],
   "source": [
    "#It is important for the followings parts to get the columns of date and time into a datetime type.\n",
    "#There ara many ways to do this tranformation of the data type but we decide to use the pandas function pd.to_datetime:\n",
    "\n",
    "#First for the date column:\n",
    "wa_datetime = pd.to_datetime(wa.date)\n",
    "wa.date = wa_datetime"
   ]
  },
  {
   "cell_type": "markdown",
   "metadata": {},
   "source": [
    "We verify that the transformation ahs worked."
   ]
  },
  {
   "cell_type": "code",
   "execution_count": 7,
   "metadata": {},
   "outputs": [
    {
     "data": {
      "text/html": [
       "<div>\n",
       "<style scoped>\n",
       "    .dataframe tbody tr th:only-of-type {\n",
       "        vertical-align: middle;\n",
       "    }\n",
       "\n",
       "    .dataframe tbody tr th {\n",
       "        vertical-align: top;\n",
       "    }\n",
       "\n",
       "    .dataframe thead th {\n",
       "        text-align: right;\n",
       "    }\n",
       "</style>\n",
       "<table border=\"1\" class=\"dataframe\">\n",
       "  <thead>\n",
       "    <tr style=\"text-align: right;\">\n",
       "      <th></th>\n",
       "      <th>raw_row_number</th>\n",
       "      <th>date</th>\n",
       "      <th>time</th>\n",
       "      <th>location</th>\n",
       "      <th>lat</th>\n",
       "      <th>lng</th>\n",
       "      <th>county_name</th>\n",
       "      <th>subject_age</th>\n",
       "      <th>subject_race</th>\n",
       "      <th>subject_sex</th>\n",
       "      <th>...</th>\n",
       "      <th>frisk_performed</th>\n",
       "      <th>search_conducted</th>\n",
       "      <th>search_basis</th>\n",
       "      <th>raw_officer_race</th>\n",
       "      <th>raw_officer_gender</th>\n",
       "      <th>raw_contact_type</th>\n",
       "      <th>raw_driver_race</th>\n",
       "      <th>raw_driver_gender</th>\n",
       "      <th>raw_search_type</th>\n",
       "      <th>raw_enforcements</th>\n",
       "    </tr>\n",
       "  </thead>\n",
       "  <tbody>\n",
       "    <tr>\n",
       "      <th>0</th>\n",
       "      <td>1</td>\n",
       "      <td>2009-10-27</td>\n",
       "      <td>11:00:00</td>\n",
       "      <td>S-012-344</td>\n",
       "      <td>46.114221</td>\n",
       "      <td>-118.224510</td>\n",
       "      <td>Walla Walla County</td>\n",
       "      <td>30.0</td>\n",
       "      <td>white</td>\n",
       "      <td>male</td>\n",
       "      <td>...</td>\n",
       "      <td>False</td>\n",
       "      <td>False</td>\n",
       "      <td>NaN</td>\n",
       "      <td>WHITE</td>\n",
       "      <td>-</td>\n",
       "      <td>--</td>\n",
       "      <td>White</td>\n",
       "      <td>M</td>\n",
       "      <td>N</td>\n",
       "      <td>-|-|-</td>\n",
       "    </tr>\n",
       "    <tr>\n",
       "      <th>1</th>\n",
       "      <td>2</td>\n",
       "      <td>2009-10-04</td>\n",
       "      <td>21:00:00</td>\n",
       "      <td>I-090-10</td>\n",
       "      <td>47.580522</td>\n",
       "      <td>-122.170289</td>\n",
       "      <td>King County</td>\n",
       "      <td>29.0</td>\n",
       "      <td>black</td>\n",
       "      <td>male</td>\n",
       "      <td>...</td>\n",
       "      <td>False</td>\n",
       "      <td>False</td>\n",
       "      <td>NaN</td>\n",
       "      <td>WHITE</td>\n",
       "      <td>-</td>\n",
       "      <td>--</td>\n",
       "      <td>African American</td>\n",
       "      <td>M</td>\n",
       "      <td>N</td>\n",
       "      <td>-|-</td>\n",
       "    </tr>\n",
       "    <tr>\n",
       "      <th>2</th>\n",
       "      <td>3</td>\n",
       "      <td>2009-10-04</td>\n",
       "      <td>03:00:00</td>\n",
       "      <td>I-090-72</td>\n",
       "      <td>47.250003</td>\n",
       "      <td>-121.189883</td>\n",
       "      <td>Kittitas County</td>\n",
       "      <td>25.0</td>\n",
       "      <td>white</td>\n",
       "      <td>male</td>\n",
       "      <td>...</td>\n",
       "      <td>False</td>\n",
       "      <td>False</td>\n",
       "      <td>NaN</td>\n",
       "      <td>WHITE</td>\n",
       "      <td>-</td>\n",
       "      <td>--</td>\n",
       "      <td>White</td>\n",
       "      <td>M</td>\n",
       "      <td>N</td>\n",
       "      <td>NaN</td>\n",
       "    </tr>\n",
       "    <tr>\n",
       "      <th>3</th>\n",
       "      <td>4</td>\n",
       "      <td>2009-10-04</td>\n",
       "      <td>13:00:00</td>\n",
       "      <td>S-014-3</td>\n",
       "      <td>45.615344</td>\n",
       "      <td>-122.612893</td>\n",
       "      <td>Clark County</td>\n",
       "      <td>19.0</td>\n",
       "      <td>white</td>\n",
       "      <td>female</td>\n",
       "      <td>...</td>\n",
       "      <td>False</td>\n",
       "      <td>False</td>\n",
       "      <td>NaN</td>\n",
       "      <td>WHITE</td>\n",
       "      <td>-</td>\n",
       "      <td>--</td>\n",
       "      <td>White</td>\n",
       "      <td>F</td>\n",
       "      <td>N</td>\n",
       "      <td>-|-|-|-|-|-</td>\n",
       "    </tr>\n",
       "    <tr>\n",
       "      <th>4</th>\n",
       "      <td>5</td>\n",
       "      <td>2009-10-11</td>\n",
       "      <td>08:00:00</td>\n",
       "      <td>S-003-40</td>\n",
       "      <td>47.590284</td>\n",
       "      <td>-122.698671</td>\n",
       "      <td>Kitsap County</td>\n",
       "      <td>25.0</td>\n",
       "      <td>white</td>\n",
       "      <td>male</td>\n",
       "      <td>...</td>\n",
       "      <td>False</td>\n",
       "      <td>False</td>\n",
       "      <td>NaN</td>\n",
       "      <td>WHITE</td>\n",
       "      <td>-</td>\n",
       "      <td>--</td>\n",
       "      <td>White</td>\n",
       "      <td>M</td>\n",
       "      <td>N</td>\n",
       "      <td>-|-</td>\n",
       "    </tr>\n",
       "  </tbody>\n",
       "</table>\n",
       "<p>5 rows × 30 columns</p>\n",
       "</div>"
      ],
      "text/plain": [
       "   raw_row_number       date      time   location        lat         lng  \\\n",
       "0               1 2009-10-27  11:00:00  S-012-344  46.114221 -118.224510   \n",
       "1               2 2009-10-04  21:00:00   I-090-10  47.580522 -122.170289   \n",
       "2               3 2009-10-04  03:00:00   I-090-72  47.250003 -121.189883   \n",
       "3               4 2009-10-04  13:00:00    S-014-3  45.615344 -122.612893   \n",
       "4               5 2009-10-11  08:00:00   S-003-40  47.590284 -122.698671   \n",
       "\n",
       "          county_name  subject_age subject_race subject_sex  ...  \\\n",
       "0  Walla Walla County         30.0        white        male  ...   \n",
       "1         King County         29.0        black        male  ...   \n",
       "2     Kittitas County         25.0        white        male  ...   \n",
       "3        Clark County         19.0        white      female  ...   \n",
       "4       Kitsap County         25.0        white        male  ...   \n",
       "\n",
       "  frisk_performed search_conducted search_basis raw_officer_race  \\\n",
       "0           False            False          NaN            WHITE   \n",
       "1           False            False          NaN            WHITE   \n",
       "2           False            False          NaN            WHITE   \n",
       "3           False            False          NaN            WHITE   \n",
       "4           False            False          NaN            WHITE   \n",
       "\n",
       "  raw_officer_gender raw_contact_type   raw_driver_race  raw_driver_gender  \\\n",
       "0                  -               --             White                  M   \n",
       "1                  -               --  African American                  M   \n",
       "2                  -               --             White                  M   \n",
       "3                  -               --             White                  F   \n",
       "4                  -               --             White                  M   \n",
       "\n",
       "  raw_search_type raw_enforcements  \n",
       "0               N            -|-|-  \n",
       "1               N              -|-  \n",
       "2               N              NaN  \n",
       "3               N      -|-|-|-|-|-  \n",
       "4               N              -|-  \n",
       "\n",
       "[5 rows x 30 columns]"
      ]
     },
     "execution_count": 7,
     "metadata": {},
     "output_type": "execute_result"
    }
   ],
   "source": [
    "wa.head()"
   ]
  },
  {
   "cell_type": "code",
   "execution_count": 8,
   "metadata": {},
   "outputs": [
    {
     "data": {
      "text/plain": [
       "raw_row_number                 int64\n",
       "date                  datetime64[ns]\n",
       "time                          object\n",
       "location                      object\n",
       "lat                          float64\n",
       "lng                          float64\n",
       "county_name                   object\n",
       "subject_age                  float64\n",
       "subject_race                  object\n",
       "subject_sex                   object\n",
       "officer_race                  object\n",
       "officer_sex                   object\n",
       "department_name               object\n",
       "type                          object\n",
       "violation                     object\n",
       "arrest_made                   object\n",
       "citation_issued                 bool\n",
       "warning_issued                  bool\n",
       "outcome                       object\n",
       "contraband_found              object\n",
       "frisk_performed                 bool\n",
       "search_conducted                bool\n",
       "search_basis                  object\n",
       "raw_officer_race              object\n",
       "raw_officer_gender            object\n",
       "raw_contact_type              object\n",
       "raw_driver_race               object\n",
       "raw_driver_gender             object\n",
       "raw_search_type               object\n",
       "raw_enforcements              object\n",
       "dtype: object"
      ]
     },
     "execution_count": 8,
     "metadata": {},
     "output_type": "execute_result"
    }
   ],
   "source": [
    "wa.dtypes"
   ]
  },
  {
   "cell_type": "markdown",
   "metadata": {},
   "source": [
    "In our analysis we want to take into acount the effect of legalization so we want to add a column that contains the boolean information on this aspect."
   ]
  },
  {
   "cell_type": "code",
   "execution_count": 9,
   "metadata": {},
   "outputs": [
    {
     "data": {
      "text/plain": [
       "Timestamp('2012-12-06 00:00:00')"
      ]
     },
     "execution_count": 9,
     "metadata": {},
     "output_type": "execute_result"
    }
   ],
   "source": [
    "#Creating a variable with this information to compare after with our dataframe values.\n",
    "a = '2012-12-06'\n",
    "a_datetime = pd.to_datetime(a)\n",
    "a = a_datetime\n",
    "a"
   ]
  },
  {
   "cell_type": "markdown",
   "metadata": {},
   "source": [
    "To create this new column we will use the tool date.toordinal because is easier for python  works with this type of data and also is easier to make comparation. We will pass to this new format the date column creating a new column with a new name date_ordinal. Also we will do the same with the date that marijuana becomes legal in Washignton as we will use this date to make an analysis and create new columns with useful information for the final model."
   ]
  },
  {
   "cell_type": "code",
   "execution_count": 10,
   "metadata": {},
   "outputs": [],
   "source": [
    "#Creating the new column with the date_ordinal format:\n",
    "wa['date_ordinal'] = wa['date'].apply(lambda date: date.toordinal())\n",
    "\n",
    "#Convert the date of marijuana legalization in a date_odinal format:\n",
    "a_ordinal = a.toordinal()"
   ]
  },
  {
   "cell_type": "markdown",
   "metadata": {},
   "source": [
    "We have to check if we get the format that we want."
   ]
  },
  {
   "cell_type": "code",
   "execution_count": 11,
   "metadata": {},
   "outputs": [
    {
     "data": {
      "text/plain": [
       "0    733707\n",
       "1    733684\n",
       "2    733684\n",
       "3    733684\n",
       "4    733691\n",
       "Name: date_ordinal, dtype: int64"
      ]
     },
     "execution_count": 11,
     "metadata": {},
     "output_type": "execute_result"
    }
   ],
   "source": [
    "wa.date_ordinal.head()"
   ]
  },
  {
   "cell_type": "code",
   "execution_count": 12,
   "metadata": {},
   "outputs": [
    {
     "data": {
      "text/plain": [
       "734843"
      ]
     },
     "execution_count": 12,
     "metadata": {},
     "output_type": "execute_result"
    }
   ],
   "source": [
    "a_ordinal"
   ]
  },
  {
   "cell_type": "markdown",
   "metadata": {},
   "source": [
    "As we can see we get the values in a more manageable format to make operations. We will create the column of pre_legalization."
   ]
  },
  {
   "cell_type": "code",
   "execution_count": 13,
   "metadata": {},
   "outputs": [
    {
     "data": {
      "text/plain": [
       "0            True\n",
       "1            True\n",
       "2            True\n",
       "3            True\n",
       "4            True\n",
       "            ...  \n",
       "11333420    False\n",
       "11333421    False\n",
       "11333422    False\n",
       "11333423    False\n",
       "11333424    False\n",
       "Name: pre_legalization, Length: 11333425, dtype: bool"
      ]
     },
     "execution_count": 13,
     "metadata": {},
     "output_type": "execute_result"
    }
   ],
   "source": [
    "wa['pre_legalization'] = wa.date_ordinal.apply(lambda x: x < a_ordinal)\n",
    "wa.pre_legalization"
   ]
  },
  {
   "cell_type": "markdown",
   "metadata": {},
   "source": [
    "As we can see we get this new column that we will use later, but the next step is to calculate the time in years after legalitzation for each stop that happens in this period. For the other values that we will obtain during the period before legalitzation we will put a 0 value to represent this fact."
   ]
  },
  {
   "cell_type": "code",
   "execution_count": 14,
   "metadata": {},
   "outputs": [
    {
     "data": {
      "text/plain": [
       "0          -3.112329\n",
       "1          -3.175342\n",
       "2          -3.175342\n",
       "3          -3.175342\n",
       "4          -3.156164\n",
       "              ...   \n",
       "11333420    5.794521\n",
       "11333421    5.805479\n",
       "11333422    5.808219\n",
       "11333423    5.808219\n",
       "11333424    5.808219\n",
       "Name: years_after_legalization, Length: 11333425, dtype: float64"
      ]
     },
     "execution_count": 14,
     "metadata": {},
     "output_type": "execute_result"
    }
   ],
   "source": [
    "#We will call this column like years_after_legalization:\n",
    "wa['years_after_legalization'] = (wa['date_ordinal']-a_ordinal)/365\n",
    "wa.years_after_legalization"
   ]
  },
  {
   "cell_type": "markdown",
   "metadata": {},
   "source": [
    "Now we have to put in a better way, where all the values under 0 will be zero to get a more clean column."
   ]
  },
  {
   "cell_type": "code",
   "execution_count": 15,
   "metadata": {},
   "outputs": [],
   "source": [
    "wa['years_after_legalization'] = wa['years_after_legalization'].clip(lower = 0)"
   ]
  },
  {
   "cell_type": "markdown",
   "metadata": {},
   "source": [
    "Finally, the last step in this section will be to see if the columns with the expected values have been obtained."
   ]
  },
  {
   "cell_type": "code",
   "execution_count": 16,
   "metadata": {},
   "outputs": [],
   "source": [
    "#wa"
   ]
  },
  {
   "cell_type": "markdown",
   "metadata": {},
   "source": [
    "We can show that the columns obtained are in a correct way like we expected and rigth now we are able to begin with the analysis."
   ]
  },
  {
   "cell_type": "markdown",
   "metadata": {},
   "source": [
    "### **Step 2**: Statistics\n",
    "\n",
    "We will now perform a decision tree analysis of our data. This is convenient because we have both categorical and numerical variables as inputs, and because the decision tree will ultimately return the factors which are more important to determine if a subject will be searched or not.\n",
    "\n",
    "We could have used a random forest analysis for better precision, but we found the decision tree analysis to be more convenient. The main reason is that decision trees are easy to represent, and are white box models, whereas random forests are more accurate but they are black box models, harder to represent, and impossible to run by hand.\n",
    "\n",
    "We will use sklearn to do this\n",
    "\n",
    "The first thing we will need to do is to split our data into a training and testing set.\n",
    "\n",
    "This is extremely important to prevent overfitting, which is the main risk of a decision tree analysis (most of the work we will do to prevent this will be afterwards on hyperparameter tuning)\n",
    "\n",
    "We will divide our data into 3 sets :\n",
    "A training set to train our decision tree classifier\n",
    "A validation set to tune our hyperparameters\n",
    "A testing set to check our results on \"never seen before\" data\n",
    "\n",
    "Since the dataset is so big, we will only use 10% of it as testing and 10% of it as validation.\n",
    "\n",
    "We also set all random_state to 1. This is to ensure reproducibility in our data;\n",
    "\n",
    "\n",
    "First we will reduce our dataset to only the interest parameters, while also dropping rows with incomplete values\n",
    "\n",
    "\n",
    "//To do : \n",
    "Decision tree \n",
    "\n",
    "\n",
    "randomized search for hyperparameter tuning\n",
    "\n",
    "plotting of the final decision tree//"
   ]
  },
  {
   "cell_type": "code",
   "execution_count": 17,
   "metadata": {},
   "outputs": [
    {
     "data": {
      "text/html": [
       "<div>\n",
       "<style scoped>\n",
       "    .dataframe tbody tr th:only-of-type {\n",
       "        vertical-align: middle;\n",
       "    }\n",
       "\n",
       "    .dataframe tbody tr th {\n",
       "        vertical-align: top;\n",
       "    }\n",
       "\n",
       "    .dataframe thead th {\n",
       "        text-align: right;\n",
       "    }\n",
       "</style>\n",
       "<table border=\"1\" class=\"dataframe\">\n",
       "  <thead>\n",
       "    <tr style=\"text-align: right;\">\n",
       "      <th></th>\n",
       "      <th>subject_age</th>\n",
       "      <th>subject_race</th>\n",
       "      <th>subject_sex</th>\n",
       "      <th>pre_legalization</th>\n",
       "      <th>years_after_legalization</th>\n",
       "      <th>search_conducted</th>\n",
       "    </tr>\n",
       "  </thead>\n",
       "  <tbody>\n",
       "    <tr>\n",
       "      <th>0</th>\n",
       "      <td>30.0</td>\n",
       "      <td>white</td>\n",
       "      <td>male</td>\n",
       "      <td>True</td>\n",
       "      <td>0.000000</td>\n",
       "      <td>False</td>\n",
       "    </tr>\n",
       "    <tr>\n",
       "      <th>1</th>\n",
       "      <td>29.0</td>\n",
       "      <td>black</td>\n",
       "      <td>male</td>\n",
       "      <td>True</td>\n",
       "      <td>0.000000</td>\n",
       "      <td>False</td>\n",
       "    </tr>\n",
       "    <tr>\n",
       "      <th>2</th>\n",
       "      <td>25.0</td>\n",
       "      <td>white</td>\n",
       "      <td>male</td>\n",
       "      <td>True</td>\n",
       "      <td>0.000000</td>\n",
       "      <td>False</td>\n",
       "    </tr>\n",
       "    <tr>\n",
       "      <th>3</th>\n",
       "      <td>19.0</td>\n",
       "      <td>white</td>\n",
       "      <td>female</td>\n",
       "      <td>True</td>\n",
       "      <td>0.000000</td>\n",
       "      <td>False</td>\n",
       "    </tr>\n",
       "    <tr>\n",
       "      <th>4</th>\n",
       "      <td>25.0</td>\n",
       "      <td>white</td>\n",
       "      <td>male</td>\n",
       "      <td>True</td>\n",
       "      <td>0.000000</td>\n",
       "      <td>False</td>\n",
       "    </tr>\n",
       "    <tr>\n",
       "      <th>...</th>\n",
       "      <td>...</td>\n",
       "      <td>...</td>\n",
       "      <td>...</td>\n",
       "      <td>...</td>\n",
       "      <td>...</td>\n",
       "      <td>...</td>\n",
       "    </tr>\n",
       "    <tr>\n",
       "      <th>11333390</th>\n",
       "      <td>55.0</td>\n",
       "      <td>white</td>\n",
       "      <td>male</td>\n",
       "      <td>False</td>\n",
       "      <td>5.783562</td>\n",
       "      <td>False</td>\n",
       "    </tr>\n",
       "    <tr>\n",
       "      <th>11333391</th>\n",
       "      <td>44.0</td>\n",
       "      <td>white</td>\n",
       "      <td>female</td>\n",
       "      <td>False</td>\n",
       "      <td>5.797260</td>\n",
       "      <td>False</td>\n",
       "    </tr>\n",
       "    <tr>\n",
       "      <th>11333392</th>\n",
       "      <td>28.0</td>\n",
       "      <td>asian/pacific islander</td>\n",
       "      <td>female</td>\n",
       "      <td>False</td>\n",
       "      <td>5.800000</td>\n",
       "      <td>False</td>\n",
       "    </tr>\n",
       "    <tr>\n",
       "      <th>11333393</th>\n",
       "      <td>35.0</td>\n",
       "      <td>hispanic</td>\n",
       "      <td>male</td>\n",
       "      <td>False</td>\n",
       "      <td>5.800000</td>\n",
       "      <td>False</td>\n",
       "    </tr>\n",
       "    <tr>\n",
       "      <th>11333395</th>\n",
       "      <td>60.0</td>\n",
       "      <td>white</td>\n",
       "      <td>male</td>\n",
       "      <td>False</td>\n",
       "      <td>5.802740</td>\n",
       "      <td>False</td>\n",
       "    </tr>\n",
       "  </tbody>\n",
       "</table>\n",
       "<p>8113590 rows × 6 columns</p>\n",
       "</div>"
      ],
      "text/plain": [
       "          subject_age            subject_race subject_sex  pre_legalization  \\\n",
       "0                30.0                   white        male              True   \n",
       "1                29.0                   black        male              True   \n",
       "2                25.0                   white        male              True   \n",
       "3                19.0                   white      female              True   \n",
       "4                25.0                   white        male              True   \n",
       "...               ...                     ...         ...               ...   \n",
       "11333390         55.0                   white        male             False   \n",
       "11333391         44.0                   white      female             False   \n",
       "11333392         28.0  asian/pacific islander      female             False   \n",
       "11333393         35.0                hispanic        male             False   \n",
       "11333395         60.0                   white        male             False   \n",
       "\n",
       "          years_after_legalization  search_conducted  \n",
       "0                         0.000000             False  \n",
       "1                         0.000000             False  \n",
       "2                         0.000000             False  \n",
       "3                         0.000000             False  \n",
       "4                         0.000000             False  \n",
       "...                            ...               ...  \n",
       "11333390                  5.783562             False  \n",
       "11333391                  5.797260             False  \n",
       "11333392                  5.800000             False  \n",
       "11333393                  5.800000             False  \n",
       "11333395                  5.802740             False  \n",
       "\n",
       "[8113590 rows x 6 columns]"
      ]
     },
     "execution_count": 17,
     "metadata": {},
     "output_type": "execute_result"
    }
   ],
   "source": [
    "wa_reduced = wa[['subject_age','subject_race','subject_sex','pre_legalization','years_after_legalization','search_conducted']]\n",
    "wa_reduced = wa_reduced.dropna()\n",
    "wa_reduced"
   ]
  },
  {
   "cell_type": "markdown",
   "metadata": {},
   "source": [
    "We also want to drop all races that are not white, hispanic, or black\n",
    "Also all sexes that are not male or female (I did not notice any, but this is just a precaution)\n",
    "This is for simplification purposes, and also to fit the study results as well as possible "
   ]
  },
  {
   "cell_type": "code",
   "execution_count": 18,
   "metadata": {},
   "outputs": [],
   "source": [
    "wa_reduced = wa_reduced[wa_reduced['subject_race'].isin(['black','hispanic','white'])]\n",
    "wa_reduced = wa_reduced[wa_reduced['subject_sex'].isin(['male','female'])]"
   ]
  },
  {
   "cell_type": "markdown",
   "metadata": {},
   "source": [
    "Unfortunately, sklearn does not handle categorical values for decision trees.\n",
    "\n",
    "Hence, we have to use label encoding to switch categorical values into numerical values.\n",
    "//Boolean values should work//"
   ]
  },
  {
   "cell_type": "code",
   "execution_count": 19,
   "metadata": {},
   "outputs": [
    {
     "data": {
      "text/html": [
       "<div>\n",
       "<style scoped>\n",
       "    .dataframe tbody tr th:only-of-type {\n",
       "        vertical-align: middle;\n",
       "    }\n",
       "\n",
       "    .dataframe tbody tr th {\n",
       "        vertical-align: top;\n",
       "    }\n",
       "\n",
       "    .dataframe thead th {\n",
       "        text-align: right;\n",
       "    }\n",
       "</style>\n",
       "<table border=\"1\" class=\"dataframe\">\n",
       "  <thead>\n",
       "    <tr style=\"text-align: right;\">\n",
       "      <th></th>\n",
       "      <th>subject_age</th>\n",
       "      <th>subject_race</th>\n",
       "      <th>subject_sex</th>\n",
       "      <th>pre_legalization</th>\n",
       "      <th>years_after_legalization</th>\n",
       "      <th>search_conducted</th>\n",
       "    </tr>\n",
       "  </thead>\n",
       "  <tbody>\n",
       "    <tr>\n",
       "      <th>0</th>\n",
       "      <td>30.0</td>\n",
       "      <td>2</td>\n",
       "      <td>1</td>\n",
       "      <td>True</td>\n",
       "      <td>0.000000</td>\n",
       "      <td>False</td>\n",
       "    </tr>\n",
       "    <tr>\n",
       "      <th>1</th>\n",
       "      <td>29.0</td>\n",
       "      <td>0</td>\n",
       "      <td>1</td>\n",
       "      <td>True</td>\n",
       "      <td>0.000000</td>\n",
       "      <td>False</td>\n",
       "    </tr>\n",
       "    <tr>\n",
       "      <th>2</th>\n",
       "      <td>25.0</td>\n",
       "      <td>2</td>\n",
       "      <td>1</td>\n",
       "      <td>True</td>\n",
       "      <td>0.000000</td>\n",
       "      <td>False</td>\n",
       "    </tr>\n",
       "    <tr>\n",
       "      <th>3</th>\n",
       "      <td>19.0</td>\n",
       "      <td>2</td>\n",
       "      <td>0</td>\n",
       "      <td>True</td>\n",
       "      <td>0.000000</td>\n",
       "      <td>False</td>\n",
       "    </tr>\n",
       "    <tr>\n",
       "      <th>4</th>\n",
       "      <td>25.0</td>\n",
       "      <td>2</td>\n",
       "      <td>1</td>\n",
       "      <td>True</td>\n",
       "      <td>0.000000</td>\n",
       "      <td>False</td>\n",
       "    </tr>\n",
       "    <tr>\n",
       "      <th>...</th>\n",
       "      <td>...</td>\n",
       "      <td>...</td>\n",
       "      <td>...</td>\n",
       "      <td>...</td>\n",
       "      <td>...</td>\n",
       "      <td>...</td>\n",
       "    </tr>\n",
       "    <tr>\n",
       "      <th>11333389</th>\n",
       "      <td>57.0</td>\n",
       "      <td>2</td>\n",
       "      <td>1</td>\n",
       "      <td>False</td>\n",
       "      <td>5.783562</td>\n",
       "      <td>False</td>\n",
       "    </tr>\n",
       "    <tr>\n",
       "      <th>11333390</th>\n",
       "      <td>55.0</td>\n",
       "      <td>2</td>\n",
       "      <td>1</td>\n",
       "      <td>False</td>\n",
       "      <td>5.783562</td>\n",
       "      <td>False</td>\n",
       "    </tr>\n",
       "    <tr>\n",
       "      <th>11333391</th>\n",
       "      <td>44.0</td>\n",
       "      <td>2</td>\n",
       "      <td>0</td>\n",
       "      <td>False</td>\n",
       "      <td>5.797260</td>\n",
       "      <td>False</td>\n",
       "    </tr>\n",
       "    <tr>\n",
       "      <th>11333393</th>\n",
       "      <td>35.0</td>\n",
       "      <td>1</td>\n",
       "      <td>1</td>\n",
       "      <td>False</td>\n",
       "      <td>5.800000</td>\n",
       "      <td>False</td>\n",
       "    </tr>\n",
       "    <tr>\n",
       "      <th>11333395</th>\n",
       "      <td>60.0</td>\n",
       "      <td>2</td>\n",
       "      <td>1</td>\n",
       "      <td>False</td>\n",
       "      <td>5.802740</td>\n",
       "      <td>False</td>\n",
       "    </tr>\n",
       "  </tbody>\n",
       "</table>\n",
       "<p>7461502 rows × 6 columns</p>\n",
       "</div>"
      ],
      "text/plain": [
       "          subject_age  subject_race  subject_sex  pre_legalization  \\\n",
       "0                30.0             2            1              True   \n",
       "1                29.0             0            1              True   \n",
       "2                25.0             2            1              True   \n",
       "3                19.0             2            0              True   \n",
       "4                25.0             2            1              True   \n",
       "...               ...           ...          ...               ...   \n",
       "11333389         57.0             2            1             False   \n",
       "11333390         55.0             2            1             False   \n",
       "11333391         44.0             2            0             False   \n",
       "11333393         35.0             1            1             False   \n",
       "11333395         60.0             2            1             False   \n",
       "\n",
       "          years_after_legalization  search_conducted  \n",
       "0                         0.000000             False  \n",
       "1                         0.000000             False  \n",
       "2                         0.000000             False  \n",
       "3                         0.000000             False  \n",
       "4                         0.000000             False  \n",
       "...                            ...               ...  \n",
       "11333389                  5.783562             False  \n",
       "11333390                  5.783562             False  \n",
       "11333391                  5.797260             False  \n",
       "11333393                  5.800000             False  \n",
       "11333395                  5.802740             False  \n",
       "\n",
       "[7461502 rows x 6 columns]"
      ]
     },
     "execution_count": 19,
     "metadata": {},
     "output_type": "execute_result"
    }
   ],
   "source": [
    "LE_race = preprocessing.LabelEncoder()\n",
    "LE_sex = preprocessing.LabelEncoder()\n",
    "\n",
    "wa_reduced['subject_race'] = LE_race.fit_transform(wa_reduced['subject_race'])\n",
    "wa_reduced['subject_sex'] = LE_sex.fit_transform(wa_reduced['subject_sex'])\n",
    "\n",
    "wa_reduced"
   ]
  },
  {
   "cell_type": "markdown",
   "metadata": {},
   "source": [
    "Hence : \n",
    "\n",
    "**race** : black = 0, white = 2, hispanic = 1\n",
    "\n",
    "**sex** : female = 0, male = 1\n",
    "\n",
    "We will be able to get back the original results by using the inverse_transform method"
   ]
  },
  {
   "cell_type": "code",
   "execution_count": 20,
   "metadata": {},
   "outputs": [],
   "source": [
    "\n",
    "X = wa_reduced[['subject_age','subject_race','subject_sex','pre_legalization','years_after_legalization']].values\n",
    "Y = wa_reduced[['search_conducted']].values\n",
    "\n",
    "X_train, X_test, Y_train, Y_test = train_test_split(X,Y,test_size = 0.2, random_state = 1) #training set : 80% of samples\n",
    "X_test, X_val, Y_test, Y_val = train_test_split(X_test, Y_test, test_size = 0.5, random_state = 1) #10% testing 10% validation"
   ]
  },
  {
   "cell_type": "markdown",
   "metadata": {},
   "source": [
    "\n",
    "Now we will define our decision tree.\n",
    "\n",
    "Most parameters (min_samples_leaf, min_samples_split) are not really important based on the number of samples\n",
    "\n",
    "However, the ones that will really be important for our model are the max_tree_depth, criterion and splitter \n",
    "\n",
    "max_tree_depth is especially important because it will ultimately be this parameter that determines which factors are important to evaluate if a subject will be searched"
   ]
  },
  {
   "cell_type": "code",
   "execution_count": 21,
   "metadata": {},
   "outputs": [],
   "source": [
    "WA_tree = DecisionTreeClassifier(random_state = 1)"
   ]
  },
  {
   "cell_type": "markdown",
   "metadata": {},
   "source": [
    "First, we will evaluate the tree with only 3 levels. This is just to give us an idea of what the main parameters would be."
   ]
  },
  {
   "cell_type": "code",
   "execution_count": 22,
   "metadata": {},
   "outputs": [
    {
     "data": {
      "text/plain": [
       "DecisionTreeClassifier(max_depth=3, random_state=1)"
      ]
     },
     "execution_count": 22,
     "metadata": {},
     "output_type": "execute_result"
    }
   ],
   "source": [
    "WA_tree_example = WA_tree\n",
    "WA_tree_example.set_params(max_depth = 3)\n",
    "WA_tree_example.fit(X_train,Y_train)"
   ]
  },
  {
   "cell_type": "markdown",
   "metadata": {},
   "source": [
    "Now we will tune the decision tree parameters,\n",
    "\n",
    "To do so, we will perform a randomized search cross validation.\n",
    "\n",
    "A grid search cross validation would have worked fine too, but based on the big number of samples a random search will be shorter to perform, and give sufficient results.\n",
    "\n"
   ]
  },
  {
   "cell_type": "code",
   "execution_count": 23,
   "metadata": {},
   "outputs": [],
   "source": [
    "#distributions = {'max_tree_depth' : np.arange(1,10),'criterion' : ['gini,entropy'],'splitter' : ['best','random']}"
   ]
  },
  {
   "cell_type": "markdown",
   "metadata": {},
   "source": [
    "### **Step 3**:  Visualization\n",
    "We now want to visualize the results of our analysis"
   ]
  },
  {
   "cell_type": "code",
   "execution_count": 57,
   "metadata": {},
   "outputs": [
    {
     "data": {
      "text/plain": [
       "[Text(558.0, 380.52, 'subject_age <= 39.5\\ngini = 0.057\\nsamples = 5969201\\nvalue = [5792766, 176435]'),\n",
       " Text(279.0, 271.8, 'subject_race <= 1.5\\ngini = 0.071\\nsamples = 3465355\\nvalue = [3337882, 127473]'),\n",
       " Text(139.5, 163.07999999999998, 'subject_sex <= 0.5\\ngini = 0.1\\nsamples = 684742\\nvalue = [648552, 36190]'),\n",
       " Text(69.75, 54.360000000000014, 'gini = 0.06\\nsamples = 187911\\nvalue = [182106, 5805]'),\n",
       " Text(209.25, 54.360000000000014, 'gini = 0.115\\nsamples = 496831\\nvalue = [466446, 30385]'),\n",
       " Text(418.5, 163.07999999999998, 'subject_sex <= 0.5\\ngini = 0.064\\nsamples = 2780613\\nvalue = [2689330, 91283]'),\n",
       " Text(348.75, 54.360000000000014, 'gini = 0.049\\nsamples = 1016584\\nvalue = [991144, 25440]'),\n",
       " Text(488.25, 54.360000000000014, 'gini = 0.072\\nsamples = 1764029\\nvalue = [1698186, 65843]'),\n",
       " Text(837.0, 271.8, 'subject_age <= 56.5\\ngini = 0.038\\nsamples = 2503846\\nvalue = [2454884, 48962]'),\n",
       " Text(697.5, 163.07999999999998, 'subject_race <= 0.5\\ngini = 0.046\\nsamples = 1676075\\nvalue = [1636585, 39490]'),\n",
       " Text(627.75, 54.360000000000014, 'gini = 0.079\\nsamples = 80419\\nvalue = [77117, 3302]'),\n",
       " Text(767.25, 54.360000000000014, 'gini = 0.044\\nsamples = 1595656\\nvalue = [1559468, 36188]'),\n",
       " Text(976.5, 163.07999999999998, 'subject_age <= 63.5\\ngini = 0.023\\nsamples = 827771\\nvalue = [818299, 9472]'),\n",
       " Text(906.75, 54.360000000000014, 'gini = 0.028\\nsamples = 437041\\nvalue = [430810, 6231]'),\n",
       " Text(1046.25, 54.360000000000014, 'gini = 0.016\\nsamples = 390730\\nvalue = [387489, 3241]')]"
      ]
     },
     "execution_count": 57,
     "metadata": {},
     "output_type": "execute_result"
    },
    {
     "data": {
      "image/png": "[encoded data removed]",
      "text/plain": [
       "<Figure size 1440x576 with 1 Axes>"
      ]
     },
     "metadata": {
      "needs_background": "light"
     },
     "output_type": "display_data"
    }
   ],
   "source": [
    "fig, axis = plt.subplots(figsize=(20, 8))\n",
    "plot_tree(WA_tree_example, ax=axis, feature_names=['subject_age','subject_race','subject_sex'])"
   ]
  },
  {
   "cell_type": "code",
   "execution_count": 50,
   "metadata": {},
   "outputs": [
    {
     "data": {
      "text/plain": [
       "Text(0, 0.5, 'Importance')"
      ]
     },
     "execution_count": 50,
     "metadata": {},
     "output_type": "execute_result"
    },
    {
     "data": {
      "image/png": "[encoded data removed]",
      "text/plain": [
       "<Figure size 1440x576 with 1 Axes>"
      ]
     },
     "metadata": {
      "needs_background": "light"
     },
     "output_type": "display_data"
    }
   ],
   "source": [
    "fig, ax = plt.subplots(figsize=(20, 8))\n",
    "ax.bar(['subject_age','subject_race','subject_sex','pre_legalization','years_after_legalization'],WA_tree_example.feature_importances_, color='green')\n",
    "ax.set_ylabel('Importance')"
   ]
  },
  {
   "cell_type": "markdown",
   "metadata": {},
   "source": [
    "\n",
    "\n"
   ]
  },
  {
   "cell_type": "code",
   "execution_count": null,
   "metadata": {},
   "outputs": [],
   "source": []
  }
 ],
 "metadata": {
  "kernelspec": {
   "display_name": "Python 3",
   "language": "python",
   "name": "python3"
  },
  "language_info": {
   "codemirror_mode": {
    "name": "ipython",
    "version": 3
   },
   "file_extension": ".py",
   "mimetype": "text/x-python",
   "name": "python",
   "nbconvert_exporter": "python",
   "pygments_lexer": "ipython3",
   "version": "3.8.3"
  }
 },
 "nbformat": 4,
 "nbformat_minor": 4
}
